{
 "cells": [
  {
   "cell_type": "markdown",
   "metadata": {
    "toc": true
   },
   "source": [
    "<h1>Table of Contents<span class=\"tocSkip\"></span></h1>\n",
    "<div class=\"toc\"><ul class=\"toc-item\"><li><span><a href=\"#Objective-in-business-terms\" data-toc-modified-id=\"Objective-in-business-terms-1\"><span class=\"toc-item-num\">1&nbsp;&nbsp;</span>Objective in business terms</a></span></li><li><span><a href=\"#Obtain-the-data\" data-toc-modified-id=\"Obtain-the-data-2\"><span class=\"toc-item-num\">2&nbsp;&nbsp;</span>Obtain the data</a></span><ul class=\"toc-item\"><li><span><a href=\"#Export-.csv-from-Fidelity\" data-toc-modified-id=\"Export-.csv-from-Fidelity-2.1\"><span class=\"toc-item-num\">2.1&nbsp;&nbsp;</span>Export .csv from Fidelity</a></span></li><li><span><a href=\"#Read-data-from-.csv\" data-toc-modified-id=\"Read-data-from-.csv-2.2\"><span class=\"toc-item-num\">2.2&nbsp;&nbsp;</span>Read data from .csv</a></span></li><li><span><a href=\"#Add-response-variable\" data-toc-modified-id=\"Add-response-variable-2.3\"><span class=\"toc-item-num\">2.3&nbsp;&nbsp;</span>Add response variable</a></span></li><li><span><a href=\"#Clean-the-data\" data-toc-modified-id=\"Clean-the-data-2.4\"><span class=\"toc-item-num\">2.4&nbsp;&nbsp;</span>Clean the data</a></span></li></ul></li><li><span><a href=\"#Analyze-the-repsonse-variables\" data-toc-modified-id=\"Analyze-the-repsonse-variables-3\"><span class=\"toc-item-num\">3&nbsp;&nbsp;</span>Analyze the repsonse variables</a></span><ul class=\"toc-item\"><li><span><a href=\"#Distributions-of-response-variables\" data-toc-modified-id=\"Distributions-of-response-variables-3.1\"><span class=\"toc-item-num\">3.1&nbsp;&nbsp;</span>Distributions of response variables</a></span></li><li><span><a href=\"#Fit-distribution-of-response-variables\" data-toc-modified-id=\"Fit-distribution-of-response-variables-3.2\"><span class=\"toc-item-num\">3.2&nbsp;&nbsp;</span>Fit distribution of response variables</a></span></li></ul></li><li><span><a href=\"#Model-Selection-Using-Subset-Selection-Approach\" data-toc-modified-id=\"Model-Selection-Using-Subset-Selection-Approach-4\"><span class=\"toc-item-num\">4&nbsp;&nbsp;</span>Model Selection Using Subset Selection Approach</a></span><ul class=\"toc-item\"><li><span><a href=\"#Create-design-matrix-and-response-variable\" data-toc-modified-id=\"Create-design-matrix-and-response-variable-4.1\"><span class=\"toc-item-num\">4.1&nbsp;&nbsp;</span>Create design matrix and response variable</a></span></li><li><span><a href=\"#Best-subset-selection\" data-toc-modified-id=\"Best-subset-selection-4.2\"><span class=\"toc-item-num\">4.2&nbsp;&nbsp;</span>Best subset selection</a></span></li><li><span><a href=\"#Foward-selection\" data-toc-modified-id=\"Foward-selection-4.3\"><span class=\"toc-item-num\">4.3&nbsp;&nbsp;</span>Foward selection</a></span></li><li><span><a href=\"#Backward-selection\" data-toc-modified-id=\"Backward-selection-4.4\"><span class=\"toc-item-num\">4.4&nbsp;&nbsp;</span>Backward selection</a></span></li></ul></li><li><span><a href=\"#Model-Selection-Using-Validation-Set-Approach\" data-toc-modified-id=\"Model-Selection-Using-Validation-Set-Approach-5\"><span class=\"toc-item-num\">5&nbsp;&nbsp;</span>Model Selection Using Validation Set Approach</a></span><ul class=\"toc-item\"><li><span><a href=\"#Best-subset-selection\" data-toc-modified-id=\"Best-subset-selection-5.1\"><span class=\"toc-item-num\">5.1&nbsp;&nbsp;</span>Best subset selection</a></span></li><li><span><a href=\"#Forward-selection\" data-toc-modified-id=\"Forward-selection-5.2\"><span class=\"toc-item-num\">5.2&nbsp;&nbsp;</span>Forward selection</a></span></li></ul></li><li><span><a href=\"#Model-Selection-Using-Cross-Validation\" data-toc-modified-id=\"Model-Selection-Using-Cross-Validation-6\"><span class=\"toc-item-num\">6&nbsp;&nbsp;</span>Model Selection Using Cross-Validation</a></span></li><li><span><a href=\"#Neural-Network\" data-toc-modified-id=\"Neural-Network-7\"><span class=\"toc-item-num\">7&nbsp;&nbsp;</span>Neural Network</a></span></li><li><span><a href=\"#Long-Short-Term-Memory\" data-toc-modified-id=\"Long-Short-Term-Memory-8\"><span class=\"toc-item-num\">8&nbsp;&nbsp;</span>Long Short-Term Memory</a></span></li><li><span><a href=\"#Classification-Methods\" data-toc-modified-id=\"Classification-Methods-9\"><span class=\"toc-item-num\">9&nbsp;&nbsp;</span>Classification Methods</a></span><ul class=\"toc-item\"><li><span><a href=\"#Create-classification-response-variable\" data-toc-modified-id=\"Create-classification-response-variable-9.1\"><span class=\"toc-item-num\">9.1&nbsp;&nbsp;</span>Create classification response variable</a></span></li></ul></li></ul></div>"
   ]
  },
  {
   "cell_type": "markdown",
   "metadata": {},
   "source": [
    "# Incubator_challenge_section_1, Jing CAO, 4/10/2020"
   ]
  },
  {
   "cell_type": "markdown",
   "metadata": {},
   "source": [
    "## Objective in business terms"
   ]
  },
  {
   "cell_type": "markdown",
   "metadata": {},
   "source": [
    "Since I am interested in trading stocks and options in the stock market, I used historical Nasdaq ETF information (QQQ) to predict the fractional change of the stock price after certain elapse times (one day, one week and one month). Although I know it's an impossible task (otherwise people would use it to predict stock price), I just use it as a normal data set to practice my statistical and machine learning skills. I get the data from the Broker Fidelity with different indicators I'm interested in. The fractional movement of the price was set to the response variable. I performed best subset selection by identifying the best model that contains a given number of predictors."
   ]
  },
  {
   "cell_type": "markdown",
   "metadata": {},
   "source": [
    "## Obtain the data"
   ]
  },
  {
   "cell_type": "markdown",
   "metadata": {},
   "source": [
    "### Export .csv from Fidelity"
   ]
  },
  {
   "cell_type": "markdown",
   "metadata": {},
   "source": [
    "We first plot QQQ daily chart for six years with several different indicators (prices, volumn, EMA(5,10,20,50,100), KST, RSI, MACD, etc.) and then export to .csv file for further analysis.\n",
    "\n",
    "Here is one example, \n",
    "![alt text](qqq_fidelity.png \"title\")"
   ]
  },
  {
   "cell_type": "markdown",
   "metadata": {},
   "source": [
    "### Read data from .csv"
   ]
  },
  {
   "cell_type": "code",
   "execution_count": 1,
   "metadata": {},
   "outputs": [
    {
     "name": "stderr",
     "output_type": "stream",
     "text": [
      "/Users/jingcao/anaconda3/envs/mlbook/lib/python3.5/site-packages/statsmodels/compat/pandas.py:56: FutureWarning: The pandas.core.datetools module is deprecated and will be removed in a future version. Please use the pandas.tseries module instead.\n",
      "  from pandas.core import datetools\n"
     ]
    }
   ],
   "source": [
    "%matplotlib inline\n",
    "import pandas as pd\n",
    "import numpy as np\n",
    "import itertools\n",
    "import time\n",
    "import statsmodels.api as sm\n",
    "import matplotlib.pyplot as plt"
   ]
  },
  {
   "cell_type": "code",
   "execution_count": 2,
   "metadata": {
    "scrolled": false
   },
   "outputs": [
    {
     "name": "stdout",
     "output_type": "stream",
     "text": [
      "(1510, 17)\n"
     ]
    },
    {
     "data": {
      "text/html": [
       "<div>\n",
       "<style scoped>\n",
       "    .dataframe tbody tr th:only-of-type {\n",
       "        vertical-align: middle;\n",
       "    }\n",
       "\n",
       "    .dataframe tbody tr th {\n",
       "        vertical-align: top;\n",
       "    }\n",
       "\n",
       "    .dataframe thead th {\n",
       "        text-align: right;\n",
       "    }\n",
       "</style>\n",
       "<table border=\"1\" class=\"dataframe\">\n",
       "  <thead>\n",
       "    <tr style=\"text-align: right;\">\n",
       "      <th></th>\n",
       "      <th>Date</th>\n",
       "      <th>Open</th>\n",
       "      <th>High</th>\n",
       "      <th>Low</th>\n",
       "      <th>Close</th>\n",
       "      <th>Volume</th>\n",
       "      <th>EMA(5,Modern)</th>\n",
       "      <th>EMA(10,Modern)</th>\n",
       "      <th>EMA(20,Modern)</th>\n",
       "      <th>EMA(50,Modern)</th>\n",
       "      <th>EMA(100,Modern)</th>\n",
       "      <th>KST(10,10|15,10|20,10|30,15)</th>\n",
       "      <th>SMA(10)</th>\n",
       "      <th>RSI(14)</th>\n",
       "      <th>MACD(12,26)</th>\n",
       "      <th>EMA(9,Modern)</th>\n",
       "      <th>Histogram</th>\n",
       "    </tr>\n",
       "  </thead>\n",
       "  <tbody>\n",
       "    <tr>\n",
       "      <th>0</th>\n",
       "      <td>2/19/13</td>\n",
       "      <td>67.8900</td>\n",
       "      <td>68.260</td>\n",
       "      <td>67.86</td>\n",
       "      <td>68.240</td>\n",
       "      <td>23433248</td>\n",
       "      <td>NaN</td>\n",
       "      <td>NaN</td>\n",
       "      <td>NaN</td>\n",
       "      <td>NaN</td>\n",
       "      <td>NaN</td>\n",
       "      <td>NaN</td>\n",
       "      <td>NaN</td>\n",
       "      <td>NaN</td>\n",
       "      <td>NaN</td>\n",
       "      <td>NaN</td>\n",
       "      <td>NaN</td>\n",
       "    </tr>\n",
       "    <tr>\n",
       "      <th>1</th>\n",
       "      <td>2/20/13</td>\n",
       "      <td>68.2400</td>\n",
       "      <td>68.250</td>\n",
       "      <td>67.18</td>\n",
       "      <td>67.190</td>\n",
       "      <td>38200240</td>\n",
       "      <td>NaN</td>\n",
       "      <td>NaN</td>\n",
       "      <td>NaN</td>\n",
       "      <td>NaN</td>\n",
       "      <td>NaN</td>\n",
       "      <td>NaN</td>\n",
       "      <td>NaN</td>\n",
       "      <td>NaN</td>\n",
       "      <td>NaN</td>\n",
       "      <td>NaN</td>\n",
       "      <td>NaN</td>\n",
       "    </tr>\n",
       "    <tr>\n",
       "      <th>2</th>\n",
       "      <td>2/21/13</td>\n",
       "      <td>66.9600</td>\n",
       "      <td>67.010</td>\n",
       "      <td>66.23</td>\n",
       "      <td>66.470</td>\n",
       "      <td>45855568</td>\n",
       "      <td>NaN</td>\n",
       "      <td>NaN</td>\n",
       "      <td>NaN</td>\n",
       "      <td>NaN</td>\n",
       "      <td>NaN</td>\n",
       "      <td>NaN</td>\n",
       "      <td>NaN</td>\n",
       "      <td>NaN</td>\n",
       "      <td>NaN</td>\n",
       "      <td>NaN</td>\n",
       "      <td>NaN</td>\n",
       "    </tr>\n",
       "    <tr>\n",
       "      <th>3</th>\n",
       "      <td>2/22/13</td>\n",
       "      <td>66.8400</td>\n",
       "      <td>67.150</td>\n",
       "      <td>66.59</td>\n",
       "      <td>67.139</td>\n",
       "      <td>21969536</td>\n",
       "      <td>NaN</td>\n",
       "      <td>NaN</td>\n",
       "      <td>NaN</td>\n",
       "      <td>NaN</td>\n",
       "      <td>NaN</td>\n",
       "      <td>NaN</td>\n",
       "      <td>NaN</td>\n",
       "      <td>NaN</td>\n",
       "      <td>NaN</td>\n",
       "      <td>NaN</td>\n",
       "      <td>NaN</td>\n",
       "    </tr>\n",
       "    <tr>\n",
       "      <th>4</th>\n",
       "      <td>2/25/13</td>\n",
       "      <td>67.6000</td>\n",
       "      <td>67.810</td>\n",
       "      <td>66.25</td>\n",
       "      <td>66.310</td>\n",
       "      <td>40927520</td>\n",
       "      <td>66.816533</td>\n",
       "      <td>NaN</td>\n",
       "      <td>NaN</td>\n",
       "      <td>NaN</td>\n",
       "      <td>NaN</td>\n",
       "      <td>NaN</td>\n",
       "      <td>NaN</td>\n",
       "      <td>NaN</td>\n",
       "      <td>NaN</td>\n",
       "      <td>NaN</td>\n",
       "      <td>NaN</td>\n",
       "    </tr>\n",
       "    <tr>\n",
       "      <th>5</th>\n",
       "      <td>2/26/13</td>\n",
       "      <td>66.4200</td>\n",
       "      <td>66.680</td>\n",
       "      <td>65.96</td>\n",
       "      <td>66.560</td>\n",
       "      <td>42088736</td>\n",
       "      <td>66.731022</td>\n",
       "      <td>NaN</td>\n",
       "      <td>NaN</td>\n",
       "      <td>NaN</td>\n",
       "      <td>NaN</td>\n",
       "      <td>NaN</td>\n",
       "      <td>NaN</td>\n",
       "      <td>NaN</td>\n",
       "      <td>NaN</td>\n",
       "      <td>NaN</td>\n",
       "      <td>NaN</td>\n",
       "    </tr>\n",
       "    <tr>\n",
       "      <th>6</th>\n",
       "      <td>2/27/13</td>\n",
       "      <td>66.5700</td>\n",
       "      <td>67.650</td>\n",
       "      <td>66.47</td>\n",
       "      <td>67.239</td>\n",
       "      <td>36339456</td>\n",
       "      <td>66.900348</td>\n",
       "      <td>NaN</td>\n",
       "      <td>NaN</td>\n",
       "      <td>NaN</td>\n",
       "      <td>NaN</td>\n",
       "      <td>NaN</td>\n",
       "      <td>NaN</td>\n",
       "      <td>NaN</td>\n",
       "      <td>NaN</td>\n",
       "      <td>NaN</td>\n",
       "      <td>NaN</td>\n",
       "    </tr>\n",
       "    <tr>\n",
       "      <th>7</th>\n",
       "      <td>2/28/13</td>\n",
       "      <td>67.2400</td>\n",
       "      <td>67.740</td>\n",
       "      <td>67.09</td>\n",
       "      <td>67.100</td>\n",
       "      <td>28557152</td>\n",
       "      <td>66.966899</td>\n",
       "      <td>NaN</td>\n",
       "      <td>NaN</td>\n",
       "      <td>NaN</td>\n",
       "      <td>NaN</td>\n",
       "      <td>NaN</td>\n",
       "      <td>NaN</td>\n",
       "      <td>NaN</td>\n",
       "      <td>NaN</td>\n",
       "      <td>NaN</td>\n",
       "      <td>NaN</td>\n",
       "    </tr>\n",
       "    <tr>\n",
       "      <th>8</th>\n",
       "      <td>3/1/13</td>\n",
       "      <td>66.8600</td>\n",
       "      <td>67.500</td>\n",
       "      <td>66.54</td>\n",
       "      <td>67.380</td>\n",
       "      <td>31617696</td>\n",
       "      <td>67.104599</td>\n",
       "      <td>NaN</td>\n",
       "      <td>NaN</td>\n",
       "      <td>NaN</td>\n",
       "      <td>NaN</td>\n",
       "      <td>NaN</td>\n",
       "      <td>NaN</td>\n",
       "      <td>NaN</td>\n",
       "      <td>NaN</td>\n",
       "      <td>NaN</td>\n",
       "      <td>NaN</td>\n",
       "    </tr>\n",
       "    <tr>\n",
       "      <th>9</th>\n",
       "      <td>3/4/13</td>\n",
       "      <td>67.1900</td>\n",
       "      <td>67.690</td>\n",
       "      <td>67.07</td>\n",
       "      <td>67.680</td>\n",
       "      <td>19380448</td>\n",
       "      <td>67.296399</td>\n",
       "      <td>67.230655</td>\n",
       "      <td>NaN</td>\n",
       "      <td>NaN</td>\n",
       "      <td>NaN</td>\n",
       "      <td>NaN</td>\n",
       "      <td>NaN</td>\n",
       "      <td>NaN</td>\n",
       "      <td>NaN</td>\n",
       "      <td>NaN</td>\n",
       "      <td>NaN</td>\n",
       "    </tr>\n",
       "    <tr>\n",
       "      <th>10</th>\n",
       "      <td>3/5/13</td>\n",
       "      <td>68.1000</td>\n",
       "      <td>68.770</td>\n",
       "      <td>68.08</td>\n",
       "      <td>68.680</td>\n",
       "      <td>35589440</td>\n",
       "      <td>67.757600</td>\n",
       "      <td>67.494172</td>\n",
       "      <td>NaN</td>\n",
       "      <td>NaN</td>\n",
       "      <td>NaN</td>\n",
       "      <td>NaN</td>\n",
       "      <td>NaN</td>\n",
       "      <td>NaN</td>\n",
       "      <td>NaN</td>\n",
       "      <td>NaN</td>\n",
       "      <td>NaN</td>\n",
       "    </tr>\n",
       "    <tr>\n",
       "      <th>11</th>\n",
       "      <td>3/6/13</td>\n",
       "      <td>68.8899</td>\n",
       "      <td>68.908</td>\n",
       "      <td>68.42</td>\n",
       "      <td>68.510</td>\n",
       "      <td>29070976</td>\n",
       "      <td>68.008400</td>\n",
       "      <td>67.678868</td>\n",
       "      <td>NaN</td>\n",
       "      <td>NaN</td>\n",
       "      <td>NaN</td>\n",
       "      <td>NaN</td>\n",
       "      <td>NaN</td>\n",
       "      <td>NaN</td>\n",
       "      <td>NaN</td>\n",
       "      <td>NaN</td>\n",
       "      <td>NaN</td>\n",
       "    </tr>\n",
       "    <tr>\n",
       "      <th>12</th>\n",
       "      <td>3/7/13</td>\n",
       "      <td>68.5700</td>\n",
       "      <td>68.800</td>\n",
       "      <td>68.45</td>\n",
       "      <td>68.690</td>\n",
       "      <td>21775872</td>\n",
       "      <td>68.235600</td>\n",
       "      <td>67.862710</td>\n",
       "      <td>NaN</td>\n",
       "      <td>NaN</td>\n",
       "      <td>NaN</td>\n",
       "      <td>NaN</td>\n",
       "      <td>NaN</td>\n",
       "      <td>NaN</td>\n",
       "      <td>NaN</td>\n",
       "      <td>NaN</td>\n",
       "      <td>NaN</td>\n",
       "    </tr>\n",
       "    <tr>\n",
       "      <th>13</th>\n",
       "      <td>3/8/13</td>\n",
       "      <td>68.9300</td>\n",
       "      <td>69.020</td>\n",
       "      <td>68.50</td>\n",
       "      <td>68.770</td>\n",
       "      <td>26162112</td>\n",
       "      <td>68.413733</td>\n",
       "      <td>68.027672</td>\n",
       "      <td>NaN</td>\n",
       "      <td>NaN</td>\n",
       "      <td>NaN</td>\n",
       "      <td>NaN</td>\n",
       "      <td>NaN</td>\n",
       "      <td>NaN</td>\n",
       "      <td>NaN</td>\n",
       "      <td>NaN</td>\n",
       "      <td>NaN</td>\n",
       "    </tr>\n",
       "    <tr>\n",
       "      <th>14</th>\n",
       "      <td>3/11/13</td>\n",
       "      <td>68.6800</td>\n",
       "      <td>68.990</td>\n",
       "      <td>68.47</td>\n",
       "      <td>68.970</td>\n",
       "      <td>23194128</td>\n",
       "      <td>68.599155</td>\n",
       "      <td>68.199004</td>\n",
       "      <td>NaN</td>\n",
       "      <td>NaN</td>\n",
       "      <td>NaN</td>\n",
       "      <td>NaN</td>\n",
       "      <td>NaN</td>\n",
       "      <td>55.575924</td>\n",
       "      <td>NaN</td>\n",
       "      <td>NaN</td>\n",
       "      <td>NaN</td>\n",
       "    </tr>\n",
       "  </tbody>\n",
       "</table>\n",
       "</div>"
      ],
      "text/plain": [
       "       Date     Open    High    Low   Close    Volume  EMA(5,Modern)  \\\n",
       "0   2/19/13  67.8900  68.260  67.86  68.240  23433248            NaN   \n",
       "1   2/20/13  68.2400  68.250  67.18  67.190  38200240            NaN   \n",
       "2   2/21/13  66.9600  67.010  66.23  66.470  45855568            NaN   \n",
       "3   2/22/13  66.8400  67.150  66.59  67.139  21969536            NaN   \n",
       "4   2/25/13  67.6000  67.810  66.25  66.310  40927520      66.816533   \n",
       "5   2/26/13  66.4200  66.680  65.96  66.560  42088736      66.731022   \n",
       "6   2/27/13  66.5700  67.650  66.47  67.239  36339456      66.900348   \n",
       "7   2/28/13  67.2400  67.740  67.09  67.100  28557152      66.966899   \n",
       "8    3/1/13  66.8600  67.500  66.54  67.380  31617696      67.104599   \n",
       "9    3/4/13  67.1900  67.690  67.07  67.680  19380448      67.296399   \n",
       "10   3/5/13  68.1000  68.770  68.08  68.680  35589440      67.757600   \n",
       "11   3/6/13  68.8899  68.908  68.42  68.510  29070976      68.008400   \n",
       "12   3/7/13  68.5700  68.800  68.45  68.690  21775872      68.235600   \n",
       "13   3/8/13  68.9300  69.020  68.50  68.770  26162112      68.413733   \n",
       "14  3/11/13  68.6800  68.990  68.47  68.970  23194128      68.599155   \n",
       "\n",
       "    EMA(10,Modern)  EMA(20,Modern)  EMA(50,Modern)  EMA(100,Modern)  \\\n",
       "0              NaN             NaN             NaN              NaN   \n",
       "1              NaN             NaN             NaN              NaN   \n",
       "2              NaN             NaN             NaN              NaN   \n",
       "3              NaN             NaN             NaN              NaN   \n",
       "4              NaN             NaN             NaN              NaN   \n",
       "5              NaN             NaN             NaN              NaN   \n",
       "6              NaN             NaN             NaN              NaN   \n",
       "7              NaN             NaN             NaN              NaN   \n",
       "8              NaN             NaN             NaN              NaN   \n",
       "9        67.230655             NaN             NaN              NaN   \n",
       "10       67.494172             NaN             NaN              NaN   \n",
       "11       67.678868             NaN             NaN              NaN   \n",
       "12       67.862710             NaN             NaN              NaN   \n",
       "13       68.027672             NaN             NaN              NaN   \n",
       "14       68.199004             NaN             NaN              NaN   \n",
       "\n",
       "    KST(10,10|15,10|20,10|30,15)  SMA(10)    RSI(14)  MACD(12,26)  \\\n",
       "0                            NaN      NaN        NaN          NaN   \n",
       "1                            NaN      NaN        NaN          NaN   \n",
       "2                            NaN      NaN        NaN          NaN   \n",
       "3                            NaN      NaN        NaN          NaN   \n",
       "4                            NaN      NaN        NaN          NaN   \n",
       "5                            NaN      NaN        NaN          NaN   \n",
       "6                            NaN      NaN        NaN          NaN   \n",
       "7                            NaN      NaN        NaN          NaN   \n",
       "8                            NaN      NaN        NaN          NaN   \n",
       "9                            NaN      NaN        NaN          NaN   \n",
       "10                           NaN      NaN        NaN          NaN   \n",
       "11                           NaN      NaN        NaN          NaN   \n",
       "12                           NaN      NaN        NaN          NaN   \n",
       "13                           NaN      NaN        NaN          NaN   \n",
       "14                           NaN      NaN  55.575924          NaN   \n",
       "\n",
       "    EMA(9,Modern)  Histogram  \n",
       "0             NaN        NaN  \n",
       "1             NaN        NaN  \n",
       "2             NaN        NaN  \n",
       "3             NaN        NaN  \n",
       "4             NaN        NaN  \n",
       "5             NaN        NaN  \n",
       "6             NaN        NaN  \n",
       "7             NaN        NaN  \n",
       "8             NaN        NaN  \n",
       "9             NaN        NaN  \n",
       "10            NaN        NaN  \n",
       "11            NaN        NaN  \n",
       "12            NaN        NaN  \n",
       "13            NaN        NaN  \n",
       "14            NaN        NaN  "
      ]
     },
     "execution_count": 2,
     "metadata": {},
     "output_type": "execute_result"
    }
   ],
   "source": [
    "QQQ_df = pd.read_csv(\"QQQ-20190210-daily.csv\")\n",
    "print(QQQ_df.shape)\n",
    "QQQ_df.head(15)"
   ]
  },
  {
   "cell_type": "code",
   "execution_count": 3,
   "metadata": {},
   "outputs": [
    {
     "data": {
      "text/plain": [
       "Index(['Date', 'Open', 'High', 'Low', 'Close', 'Volume', 'EMA(5,Modern)',\n",
       "       'EMA(10,Modern)', 'EMA(20,Modern)', 'EMA(50,Modern)', 'EMA(100,Modern)',\n",
       "       'KST(10,10|15,10|20,10|30,15)', 'SMA(10)', 'RSI(14)', 'MACD(12,26)',\n",
       "       'EMA(9,Modern)', 'Histogram'],\n",
       "      dtype='object')"
      ]
     },
     "execution_count": 3,
     "metadata": {},
     "output_type": "execute_result"
    }
   ],
   "source": [
    "QQQ_df.columns"
   ]
  },
  {
   "cell_type": "markdown",
   "metadata": {},
   "source": [
    "First of all, we note that the several variables are missing for some of the data points. The isnull() function can be used to identify the missing observations. "
   ]
  },
  {
   "cell_type": "code",
   "execution_count": 4,
   "metadata": {
    "scrolled": true
   },
   "outputs": [
    {
     "name": "stdout",
     "output_type": "stream",
     "text": [
      "Number of null values:\n",
      "Date                             0\n",
      "Open                             0\n",
      "High                             0\n",
      "Low                              0\n",
      "Close                            0\n",
      "Volume                           0\n",
      "EMA(5,Modern)                    4\n",
      "EMA(10,Modern)                   9\n",
      "EMA(20,Modern)                  19\n",
      "EMA(50,Modern)                  49\n",
      "EMA(100,Modern)                 99\n",
      "KST(10,10|15,10|20,10|30,15)    44\n",
      "SMA(10)                         53\n",
      "RSI(14)                         14\n",
      "MACD(12,26)                     25\n",
      "EMA(9,Modern)                   33\n",
      "Histogram                       33\n",
      "dtype: int64\n"
     ]
    }
   ],
   "source": [
    "print(\"Number of null values:\")\n",
    "print(QQQ_df.isnull().sum())"
   ]
  },
  {
   "cell_type": "markdown",
   "metadata": {},
   "source": [
    "### Add response variable"
   ]
  },
  {
   "cell_type": "code",
   "execution_count": 5,
   "metadata": {},
   "outputs": [
    {
     "data": {
      "text/html": [
       "<div>\n",
       "<style scoped>\n",
       "    .dataframe tbody tr th:only-of-type {\n",
       "        vertical-align: middle;\n",
       "    }\n",
       "\n",
       "    .dataframe tbody tr th {\n",
       "        vertical-align: top;\n",
       "    }\n",
       "\n",
       "    .dataframe thead th {\n",
       "        text-align: right;\n",
       "    }\n",
       "</style>\n",
       "<table border=\"1\" class=\"dataframe\">\n",
       "  <thead>\n",
       "    <tr style=\"text-align: right;\">\n",
       "      <th></th>\n",
       "      <th>Date</th>\n",
       "      <th>Open</th>\n",
       "      <th>High</th>\n",
       "      <th>Low</th>\n",
       "      <th>Close</th>\n",
       "      <th>Volume</th>\n",
       "      <th>EMA(5,Modern)</th>\n",
       "      <th>EMA(10,Modern)</th>\n",
       "      <th>EMA(20,Modern)</th>\n",
       "      <th>EMA(50,Modern)</th>\n",
       "      <th>...</th>\n",
       "      <th>KST(10,10|15,10|20,10|30,15)</th>\n",
       "      <th>SMA(10)</th>\n",
       "      <th>RSI(14)</th>\n",
       "      <th>MACD(12,26)</th>\n",
       "      <th>EMA(9,Modern)</th>\n",
       "      <th>Histogram</th>\n",
       "      <th>res6_Close</th>\n",
       "      <th>res11_Close</th>\n",
       "      <th>res21_Close</th>\n",
       "      <th>res41_Close</th>\n",
       "    </tr>\n",
       "  </thead>\n",
       "  <tbody>\n",
       "    <tr>\n",
       "      <th>0</th>\n",
       "      <td>2/19/13</td>\n",
       "      <td>67.89</td>\n",
       "      <td>68.26</td>\n",
       "      <td>67.86</td>\n",
       "      <td>68.240</td>\n",
       "      <td>23433248</td>\n",
       "      <td>NaN</td>\n",
       "      <td>NaN</td>\n",
       "      <td>NaN</td>\n",
       "      <td>NaN</td>\n",
       "      <td>...</td>\n",
       "      <td>NaN</td>\n",
       "      <td>NaN</td>\n",
       "      <td>NaN</td>\n",
       "      <td>NaN</td>\n",
       "      <td>NaN</td>\n",
       "      <td>NaN</td>\n",
       "      <td>-1.466882</td>\n",
       "      <td>0.395662</td>\n",
       "      <td>0.687280</td>\n",
       "      <td>-1.569461</td>\n",
       "    </tr>\n",
       "    <tr>\n",
       "      <th>1</th>\n",
       "      <td>2/20/13</td>\n",
       "      <td>68.24</td>\n",
       "      <td>68.25</td>\n",
       "      <td>67.18</td>\n",
       "      <td>67.190</td>\n",
       "      <td>38200240</td>\n",
       "      <td>NaN</td>\n",
       "      <td>NaN</td>\n",
       "      <td>NaN</td>\n",
       "      <td>NaN</td>\n",
       "      <td>...</td>\n",
       "      <td>NaN</td>\n",
       "      <td>NaN</td>\n",
       "      <td>NaN</td>\n",
       "      <td>NaN</td>\n",
       "      <td>NaN</td>\n",
       "      <td>NaN</td>\n",
       "      <td>-0.133949</td>\n",
       "      <td>2.232475</td>\n",
       "      <td>1.101354</td>\n",
       "      <td>1.339485</td>\n",
       "    </tr>\n",
       "    <tr>\n",
       "      <th>2</th>\n",
       "      <td>2/21/13</td>\n",
       "      <td>66.96</td>\n",
       "      <td>67.01</td>\n",
       "      <td>66.23</td>\n",
       "      <td>66.470</td>\n",
       "      <td>45855568</td>\n",
       "      <td>NaN</td>\n",
       "      <td>NaN</td>\n",
       "      <td>NaN</td>\n",
       "      <td>NaN</td>\n",
       "      <td>...</td>\n",
       "      <td>NaN</td>\n",
       "      <td>NaN</td>\n",
       "      <td>NaN</td>\n",
       "      <td>NaN</td>\n",
       "      <td>NaN</td>\n",
       "      <td>NaN</td>\n",
       "      <td>1.369039</td>\n",
       "      <td>3.460208</td>\n",
       "      <td>3.189409</td>\n",
       "      <td>3.490296</td>\n",
       "    </tr>\n",
       "    <tr>\n",
       "      <th>3</th>\n",
       "      <td>2/22/13</td>\n",
       "      <td>66.84</td>\n",
       "      <td>67.15</td>\n",
       "      <td>66.59</td>\n",
       "      <td>67.139</td>\n",
       "      <td>21969536</td>\n",
       "      <td>NaN</td>\n",
       "      <td>NaN</td>\n",
       "      <td>NaN</td>\n",
       "      <td>NaN</td>\n",
       "      <td>...</td>\n",
       "      <td>NaN</td>\n",
       "      <td>NaN</td>\n",
       "      <td>NaN</td>\n",
       "      <td>NaN</td>\n",
       "      <td>NaN</td>\n",
       "      <td>NaN</td>\n",
       "      <td>0.805791</td>\n",
       "      <td>2.727178</td>\n",
       "      <td>1.788826</td>\n",
       "      <td>3.442113</td>\n",
       "    </tr>\n",
       "    <tr>\n",
       "      <th>4</th>\n",
       "      <td>2/25/13</td>\n",
       "      <td>67.60</td>\n",
       "      <td>67.81</td>\n",
       "      <td>66.25</td>\n",
       "      <td>66.310</td>\n",
       "      <td>40927520</td>\n",
       "      <td>66.816533</td>\n",
       "      <td>NaN</td>\n",
       "      <td>NaN</td>\n",
       "      <td>NaN</td>\n",
       "      <td>...</td>\n",
       "      <td>NaN</td>\n",
       "      <td>NaN</td>\n",
       "      <td>NaN</td>\n",
       "      <td>NaN</td>\n",
       "      <td>NaN</td>\n",
       "      <td>NaN</td>\n",
       "      <td>3.574122</td>\n",
       "      <td>3.634444</td>\n",
       "      <td>3.619364</td>\n",
       "      <td>4.690092</td>\n",
       "    </tr>\n",
       "    <tr>\n",
       "      <th>5</th>\n",
       "      <td>2/26/13</td>\n",
       "      <td>66.42</td>\n",
       "      <td>66.68</td>\n",
       "      <td>65.96</td>\n",
       "      <td>66.560</td>\n",
       "      <td>42088736</td>\n",
       "      <td>66.731022</td>\n",
       "      <td>NaN</td>\n",
       "      <td>NaN</td>\n",
       "      <td>NaN</td>\n",
       "      <td>...</td>\n",
       "      <td>NaN</td>\n",
       "      <td>NaN</td>\n",
       "      <td>NaN</td>\n",
       "      <td>NaN</td>\n",
       "      <td>NaN</td>\n",
       "      <td>NaN</td>\n",
       "      <td>2.929688</td>\n",
       "      <td>3.109976</td>\n",
       "      <td>3.366887</td>\n",
       "      <td>4.852764</td>\n",
       "    </tr>\n",
       "    <tr>\n",
       "      <th>6</th>\n",
       "      <td>2/27/13</td>\n",
       "      <td>66.57</td>\n",
       "      <td>67.65</td>\n",
       "      <td>66.47</td>\n",
       "      <td>67.239</td>\n",
       "      <td>36339456</td>\n",
       "      <td>66.900348</td>\n",
       "      <td>NaN</td>\n",
       "      <td>NaN</td>\n",
       "      <td>NaN</td>\n",
       "      <td>...</td>\n",
       "      <td>NaN</td>\n",
       "      <td>NaN</td>\n",
       "      <td>NaN</td>\n",
       "      <td>NaN</td>\n",
       "      <td>NaN</td>\n",
       "      <td>NaN</td>\n",
       "      <td>2.157974</td>\n",
       "      <td>2.410803</td>\n",
       "      <td>2.574399</td>\n",
       "      <td>3.466738</td>\n",
       "    </tr>\n",
       "    <tr>\n",
       "      <th>7</th>\n",
       "      <td>2/28/13</td>\n",
       "      <td>67.24</td>\n",
       "      <td>67.74</td>\n",
       "      <td>67.09</td>\n",
       "      <td>67.100</td>\n",
       "      <td>28557152</td>\n",
       "      <td>66.966899</td>\n",
       "      <td>NaN</td>\n",
       "      <td>NaN</td>\n",
       "      <td>NaN</td>\n",
       "      <td>...</td>\n",
       "      <td>NaN</td>\n",
       "      <td>NaN</td>\n",
       "      <td>NaN</td>\n",
       "      <td>NaN</td>\n",
       "      <td>NaN</td>\n",
       "      <td>NaN</td>\n",
       "      <td>2.488823</td>\n",
       "      <td>2.101341</td>\n",
       "      <td>2.086438</td>\n",
       "      <td>4.634873</td>\n",
       "    </tr>\n",
       "    <tr>\n",
       "      <th>8</th>\n",
       "      <td>3/1/13</td>\n",
       "      <td>66.86</td>\n",
       "      <td>67.50</td>\n",
       "      <td>66.54</td>\n",
       "      <td>67.380</td>\n",
       "      <td>31617696</td>\n",
       "      <td>67.104599</td>\n",
       "      <td>NaN</td>\n",
       "      <td>NaN</td>\n",
       "      <td>NaN</td>\n",
       "      <td>...</td>\n",
       "      <td>NaN</td>\n",
       "      <td>NaN</td>\n",
       "      <td>NaN</td>\n",
       "      <td>NaN</td>\n",
       "      <td>NaN</td>\n",
       "      <td>NaN</td>\n",
       "      <td>2.359751</td>\n",
       "      <td>1.454438</td>\n",
       "      <td>2.463639</td>\n",
       "      <td>4.956961</td>\n",
       "    </tr>\n",
       "    <tr>\n",
       "      <th>9</th>\n",
       "      <td>3/4/13</td>\n",
       "      <td>67.19</td>\n",
       "      <td>67.69</td>\n",
       "      <td>67.07</td>\n",
       "      <td>67.680</td>\n",
       "      <td>19380448</td>\n",
       "      <td>67.296399</td>\n",
       "      <td>67.230655</td>\n",
       "      <td>NaN</td>\n",
       "      <td>NaN</td>\n",
       "      <td>...</td>\n",
       "      <td>NaN</td>\n",
       "      <td>NaN</td>\n",
       "      <td>NaN</td>\n",
       "      <td>NaN</td>\n",
       "      <td>NaN</td>\n",
       "      <td>NaN</td>\n",
       "      <td>1.536643</td>\n",
       "      <td>0.812648</td>\n",
       "      <td>1.078605</td>\n",
       "      <td>4.004137</td>\n",
       "    </tr>\n",
       "  </tbody>\n",
       "</table>\n",
       "<p>10 rows × 21 columns</p>\n",
       "</div>"
      ],
      "text/plain": [
       "      Date   Open   High    Low   Close    Volume  EMA(5,Modern)  \\\n",
       "0  2/19/13  67.89  68.26  67.86  68.240  23433248            NaN   \n",
       "1  2/20/13  68.24  68.25  67.18  67.190  38200240            NaN   \n",
       "2  2/21/13  66.96  67.01  66.23  66.470  45855568            NaN   \n",
       "3  2/22/13  66.84  67.15  66.59  67.139  21969536            NaN   \n",
       "4  2/25/13  67.60  67.81  66.25  66.310  40927520      66.816533   \n",
       "5  2/26/13  66.42  66.68  65.96  66.560  42088736      66.731022   \n",
       "6  2/27/13  66.57  67.65  66.47  67.239  36339456      66.900348   \n",
       "7  2/28/13  67.24  67.74  67.09  67.100  28557152      66.966899   \n",
       "8   3/1/13  66.86  67.50  66.54  67.380  31617696      67.104599   \n",
       "9   3/4/13  67.19  67.69  67.07  67.680  19380448      67.296399   \n",
       "\n",
       "   EMA(10,Modern)  EMA(20,Modern)  EMA(50,Modern)     ...       \\\n",
       "0             NaN             NaN             NaN     ...        \n",
       "1             NaN             NaN             NaN     ...        \n",
       "2             NaN             NaN             NaN     ...        \n",
       "3             NaN             NaN             NaN     ...        \n",
       "4             NaN             NaN             NaN     ...        \n",
       "5             NaN             NaN             NaN     ...        \n",
       "6             NaN             NaN             NaN     ...        \n",
       "7             NaN             NaN             NaN     ...        \n",
       "8             NaN             NaN             NaN     ...        \n",
       "9       67.230655             NaN             NaN     ...        \n",
       "\n",
       "   KST(10,10|15,10|20,10|30,15)  SMA(10)  RSI(14)  MACD(12,26)  EMA(9,Modern)  \\\n",
       "0                           NaN      NaN      NaN          NaN            NaN   \n",
       "1                           NaN      NaN      NaN          NaN            NaN   \n",
       "2                           NaN      NaN      NaN          NaN            NaN   \n",
       "3                           NaN      NaN      NaN          NaN            NaN   \n",
       "4                           NaN      NaN      NaN          NaN            NaN   \n",
       "5                           NaN      NaN      NaN          NaN            NaN   \n",
       "6                           NaN      NaN      NaN          NaN            NaN   \n",
       "7                           NaN      NaN      NaN          NaN            NaN   \n",
       "8                           NaN      NaN      NaN          NaN            NaN   \n",
       "9                           NaN      NaN      NaN          NaN            NaN   \n",
       "\n",
       "   Histogram  res6_Close  res11_Close  res21_Close  res41_Close  \n",
       "0        NaN   -1.466882     0.395662     0.687280    -1.569461  \n",
       "1        NaN   -0.133949     2.232475     1.101354     1.339485  \n",
       "2        NaN    1.369039     3.460208     3.189409     3.490296  \n",
       "3        NaN    0.805791     2.727178     1.788826     3.442113  \n",
       "4        NaN    3.574122     3.634444     3.619364     4.690092  \n",
       "5        NaN    2.929688     3.109976     3.366887     4.852764  \n",
       "6        NaN    2.157974     2.410803     2.574399     3.466738  \n",
       "7        NaN    2.488823     2.101341     2.086438     4.634873  \n",
       "8        NaN    2.359751     1.454438     2.463639     4.956961  \n",
       "9        NaN    1.536643     0.812648     1.078605     4.004137  \n",
       "\n",
       "[10 rows x 21 columns]"
      ]
     },
     "execution_count": 5,
     "metadata": {},
     "output_type": "execute_result"
    }
   ],
   "source": [
    "QQQ_clean = QQQ_df.copy()\n",
    "\n",
    "# intrduce elapsed time (business days) for the price change\n",
    "elapse_time = [6, 11, 21, 41] \n",
    "\n",
    "for i in elapse_time:\n",
    "    rd = QQQ_clean['Close'][i:]\n",
    "    rd.reset_index(drop=True, inplace=True)\n",
    "    rd_o = QQQ_clean['Close'][:len(rd)]\n",
    "    rd_o.reset_index(drop=True,inplace=True)\n",
    "    rd = (rd - rd_o) / rd_o * 100  # fraction change of the close price\n",
    "    \n",
    "    rd.rename('res'+str(i)+'_Close',inplace = True)\n",
    "    QQQ_clean = pd.concat([QQQ_clean, rd], axis=1)\n",
    "\n",
    "QQQ_clean.head(10)    "
   ]
  },
  {
   "cell_type": "markdown",
   "metadata": {},
   "source": [
    "Count all of the missing elements:"
   ]
  },
  {
   "cell_type": "code",
   "execution_count": 6,
   "metadata": {},
   "outputs": [
    {
     "name": "stdout",
     "output_type": "stream",
     "text": [
      "Number of null values:\n",
      "Date                             0\n",
      "Open                             0\n",
      "High                             0\n",
      "Low                              0\n",
      "Close                            0\n",
      "Volume                           0\n",
      "EMA(5,Modern)                    4\n",
      "EMA(10,Modern)                   9\n",
      "EMA(20,Modern)                  19\n",
      "EMA(50,Modern)                  49\n",
      "EMA(100,Modern)                 99\n",
      "KST(10,10|15,10|20,10|30,15)    44\n",
      "SMA(10)                         53\n",
      "RSI(14)                         14\n",
      "MACD(12,26)                     25\n",
      "EMA(9,Modern)                   33\n",
      "Histogram                       33\n",
      "res6_Close                       6\n",
      "res11_Close                     11\n",
      "res21_Close                     21\n",
      "res41_Close                     41\n",
      "dtype: int64\n"
     ]
    }
   ],
   "source": [
    "print(\"Number of null values:\")\n",
    "print(QQQ_clean.isnull().sum())"
   ]
  },
  {
   "cell_type": "markdown",
   "metadata": {},
   "source": [
    "### Clean the data"
   ]
  },
  {
   "cell_type": "markdown",
   "metadata": {},
   "source": [
    "The *dropna()* function removes all of the rows that have missing values in any variable:"
   ]
  },
  {
   "cell_type": "code",
   "execution_count": 7,
   "metadata": {},
   "outputs": [
    {
     "name": "stdout",
     "output_type": "stream",
     "text": [
      "Number of null values:\n",
      "Open                            0\n",
      "High                            0\n",
      "Low                             0\n",
      "Close                           0\n",
      "Volume                          0\n",
      "EMA(5,Modern)                   0\n",
      "EMA(10,Modern)                  0\n",
      "EMA(20,Modern)                  0\n",
      "EMA(50,Modern)                  0\n",
      "EMA(100,Modern)                 0\n",
      "KST(10,10|15,10|20,10|30,15)    0\n",
      "SMA(10)                         0\n",
      "RSI(14)                         0\n",
      "MACD(12,26)                     0\n",
      "EMA(9,Modern)                   0\n",
      "Histogram                       0\n",
      "res6_Close                      0\n",
      "res11_Close                     0\n",
      "res21_Close                     0\n",
      "res41_Close                     0\n",
      "dtype: int64\n"
     ]
    },
    {
     "data": {
      "text/plain": [
       "(1370, 20)"
      ]
     },
     "execution_count": 7,
     "metadata": {},
     "output_type": "execute_result"
    }
   ],
   "source": [
    "QQQ_df_clean = QQQ_clean.dropna().drop(['Date'],axis=1) # also drop the date column\n",
    "print('Number of null values:')\n",
    "print(QQQ_df_clean.isnull().sum())\n",
    "QQQ_df_clean.reset_index(drop=True, inplace=True)\n",
    "QQQ_df_clean.shape"
   ]
  },
  {
   "cell_type": "code",
   "execution_count": 8,
   "metadata": {},
   "outputs": [
    {
     "data": {
      "text/html": [
       "<div>\n",
       "<style scoped>\n",
       "    .dataframe tbody tr th:only-of-type {\n",
       "        vertical-align: middle;\n",
       "    }\n",
       "\n",
       "    .dataframe tbody tr th {\n",
       "        vertical-align: top;\n",
       "    }\n",
       "\n",
       "    .dataframe thead th {\n",
       "        text-align: right;\n",
       "    }\n",
       "</style>\n",
       "<table border=\"1\" class=\"dataframe\">\n",
       "  <thead>\n",
       "    <tr style=\"text-align: right;\">\n",
       "      <th></th>\n",
       "      <th>Open</th>\n",
       "      <th>High</th>\n",
       "      <th>Low</th>\n",
       "      <th>Close</th>\n",
       "      <th>Volume</th>\n",
       "      <th>EMA(5,Modern)</th>\n",
       "      <th>EMA(10,Modern)</th>\n",
       "      <th>EMA(20,Modern)</th>\n",
       "      <th>EMA(50,Modern)</th>\n",
       "      <th>EMA(100,Modern)</th>\n",
       "      <th>KST(10,10|15,10|20,10|30,15)</th>\n",
       "      <th>SMA(10)</th>\n",
       "      <th>RSI(14)</th>\n",
       "      <th>MACD(12,26)</th>\n",
       "      <th>EMA(9,Modern)</th>\n",
       "      <th>Histogram</th>\n",
       "      <th>res6_Close</th>\n",
       "      <th>res11_Close</th>\n",
       "      <th>res21_Close</th>\n",
       "      <th>res41_Close</th>\n",
       "    </tr>\n",
       "  </thead>\n",
       "  <tbody>\n",
       "    <tr>\n",
       "      <th>0</th>\n",
       "      <td>74.29</td>\n",
       "      <td>75.03</td>\n",
       "      <td>74.25</td>\n",
       "      <td>74.97</td>\n",
       "      <td>47777680</td>\n",
       "      <td>73.539947</td>\n",
       "      <td>72.845158</td>\n",
       "      <td>72.461162</td>\n",
       "      <td>71.972482</td>\n",
       "      <td>70.656830</td>\n",
       "      <td>-11.015488</td>\n",
       "      <td>-19.008037</td>\n",
       "      <td>68.564802</td>\n",
       "      <td>0.320974</td>\n",
       "      <td>-0.041576</td>\n",
       "      <td>0.362550</td>\n",
       "      <td>-0.506869</td>\n",
       "      <td>0.533547</td>\n",
       "      <td>2.027478</td>\n",
       "      <td>3.814859</td>\n",
       "    </tr>\n",
       "    <tr>\n",
       "      <th>1</th>\n",
       "      <td>75.02</td>\n",
       "      <td>75.35</td>\n",
       "      <td>74.82</td>\n",
       "      <td>75.30</td>\n",
       "      <td>31417856</td>\n",
       "      <td>74.126632</td>\n",
       "      <td>73.291493</td>\n",
       "      <td>72.731527</td>\n",
       "      <td>72.102973</td>\n",
       "      <td>70.748774</td>\n",
       "      <td>-5.393682</td>\n",
       "      <td>-18.040074</td>\n",
       "      <td>69.980978</td>\n",
       "      <td>0.504247</td>\n",
       "      <td>0.067589</td>\n",
       "      <td>0.436659</td>\n",
       "      <td>-0.650730</td>\n",
       "      <td>-0.092961</td>\n",
       "      <td>1.819389</td>\n",
       "      <td>3.864542</td>\n",
       "    </tr>\n",
       "    <tr>\n",
       "      <th>2</th>\n",
       "      <td>75.36</td>\n",
       "      <td>75.52</td>\n",
       "      <td>75.17</td>\n",
       "      <td>75.47</td>\n",
       "      <td>19790960</td>\n",
       "      <td>74.574421</td>\n",
       "      <td>73.687585</td>\n",
       "      <td>72.992334</td>\n",
       "      <td>72.235014</td>\n",
       "      <td>70.842263</td>\n",
       "      <td>1.086812</td>\n",
       "      <td>-16.148103</td>\n",
       "      <td>70.712953</td>\n",
       "      <td>0.655652</td>\n",
       "      <td>0.185202</td>\n",
       "      <td>0.470451</td>\n",
       "      <td>-1.603286</td>\n",
       "      <td>0.212005</td>\n",
       "      <td>2.159799</td>\n",
       "      <td>3.431827</td>\n",
       "    </tr>\n",
       "    <tr>\n",
       "      <th>3</th>\n",
       "      <td>75.54</td>\n",
       "      <td>75.59</td>\n",
       "      <td>75.18</td>\n",
       "      <td>75.37</td>\n",
       "      <td>31747088</td>\n",
       "      <td>74.839614</td>\n",
       "      <td>73.993479</td>\n",
       "      <td>73.218778</td>\n",
       "      <td>72.357954</td>\n",
       "      <td>70.931922</td>\n",
       "      <td>7.455043</td>\n",
       "      <td>-13.316985</td>\n",
       "      <td>69.637287</td>\n",
       "      <td>0.758826</td>\n",
       "      <td>0.299926</td>\n",
       "      <td>0.458899</td>\n",
       "      <td>-1.154305</td>\n",
       "      <td>0.530715</td>\n",
       "      <td>1.910574</td>\n",
       "      <td>3.502720</td>\n",
       "    </tr>\n",
       "    <tr>\n",
       "      <th>4</th>\n",
       "      <td>75.60</td>\n",
       "      <td>75.74</td>\n",
       "      <td>75.35</td>\n",
       "      <td>75.56</td>\n",
       "      <td>24631504</td>\n",
       "      <td>75.079743</td>\n",
       "      <td>74.278301</td>\n",
       "      <td>73.441752</td>\n",
       "      <td>72.483525</td>\n",
       "      <td>71.023567</td>\n",
       "      <td>13.331365</td>\n",
       "      <td>-9.638165</td>\n",
       "      <td>70.553815</td>\n",
       "      <td>0.846169</td>\n",
       "      <td>0.409175</td>\n",
       "      <td>0.436994</td>\n",
       "      <td>-0.780836</td>\n",
       "      <td>1.296983</td>\n",
       "      <td>-0.066173</td>\n",
       "      <td>3.308629</td>\n",
       "    </tr>\n",
       "    <tr>\n",
       "      <th>5</th>\n",
       "      <td>75.54</td>\n",
       "      <td>75.74</td>\n",
       "      <td>75.25</td>\n",
       "      <td>75.37</td>\n",
       "      <td>36278800</td>\n",
       "      <td>75.176495</td>\n",
       "      <td>74.476791</td>\n",
       "      <td>73.625395</td>\n",
       "      <td>72.596720</td>\n",
       "      <td>71.109635</td>\n",
       "      <td>18.388674</td>\n",
       "      <td>-5.397193</td>\n",
       "      <td>68.332466</td>\n",
       "      <td>0.889800</td>\n",
       "      <td>0.505300</td>\n",
       "      <td>0.384500</td>\n",
       "      <td>0.000000</td>\n",
       "      <td>2.122861</td>\n",
       "      <td>0.152581</td>\n",
       "      <td>3.290434</td>\n",
       "    </tr>\n",
       "    <tr>\n",
       "      <th>6</th>\n",
       "      <td>74.72</td>\n",
       "      <td>74.74</td>\n",
       "      <td>74.37</td>\n",
       "      <td>74.59</td>\n",
       "      <td>37734064</td>\n",
       "      <td>74.980997</td>\n",
       "      <td>74.497375</td>\n",
       "      <td>73.717262</td>\n",
       "      <td>72.674888</td>\n",
       "      <td>71.178553</td>\n",
       "      <td>22.600018</td>\n",
       "      <td>-0.835357</td>\n",
       "      <td>59.983144</td>\n",
       "      <td>0.851622</td>\n",
       "      <td>0.574564</td>\n",
       "      <td>0.277057</td>\n",
       "      <td>0.858024</td>\n",
       "      <td>3.257809</td>\n",
       "      <td>1.018903</td>\n",
       "      <td>5.067703</td>\n",
       "    </tr>\n",
       "    <tr>\n",
       "      <th>7</th>\n",
       "      <td>74.87</td>\n",
       "      <td>74.98</td>\n",
       "      <td>74.58</td>\n",
       "      <td>74.81</td>\n",
       "      <td>21135856</td>\n",
       "      <td>74.923998</td>\n",
       "      <td>74.554216</td>\n",
       "      <td>73.821332</td>\n",
       "      <td>72.758618</td>\n",
       "      <td>71.250463</td>\n",
       "      <td>26.997988</td>\n",
       "      <td>3.980545</td>\n",
       "      <td>61.415178</td>\n",
       "      <td>0.829555</td>\n",
       "      <td>0.625562</td>\n",
       "      <td>0.203992</td>\n",
       "      <td>1.096110</td>\n",
       "      <td>2.339259</td>\n",
       "      <td>1.162946</td>\n",
       "      <td>6.015239</td>\n",
       "    </tr>\n",
       "    <tr>\n",
       "      <th>8</th>\n",
       "      <td>74.95</td>\n",
       "      <td>74.96</td>\n",
       "      <td>74.20</td>\n",
       "      <td>74.26</td>\n",
       "      <td>24748784</td>\n",
       "      <td>74.702665</td>\n",
       "      <td>74.500722</td>\n",
       "      <td>73.863110</td>\n",
       "      <td>72.817495</td>\n",
       "      <td>71.310057</td>\n",
       "      <td>30.675704</td>\n",
       "      <td>8.869796</td>\n",
       "      <td>56.018046</td>\n",
       "      <td>0.758937</td>\n",
       "      <td>0.652237</td>\n",
       "      <td>0.106700</td>\n",
       "      <td>2.033396</td>\n",
       "      <td>2.908699</td>\n",
       "      <td>1.562079</td>\n",
       "      <td>7.056289</td>\n",
       "    </tr>\n",
       "    <tr>\n",
       "      <th>9</th>\n",
       "      <td>74.99</td>\n",
       "      <td>75.02</td>\n",
       "      <td>74.33</td>\n",
       "      <td>74.50</td>\n",
       "      <td>24426800</td>\n",
       "      <td>74.635110</td>\n",
       "      <td>74.500591</td>\n",
       "      <td>73.923766</td>\n",
       "      <td>72.883476</td>\n",
       "      <td>71.373225</td>\n",
       "      <td>34.158986</td>\n",
       "      <td>13.828542</td>\n",
       "      <td>57.762343</td>\n",
       "      <td>0.714107</td>\n",
       "      <td>0.664611</td>\n",
       "      <td>0.049496</td>\n",
       "      <td>2.738255</td>\n",
       "      <td>3.087248</td>\n",
       "      <td>2.228188</td>\n",
       "      <td>6.020134</td>\n",
       "    </tr>\n",
       "  </tbody>\n",
       "</table>\n",
       "</div>"
      ],
      "text/plain": [
       "    Open   High    Low  Close    Volume  EMA(5,Modern)  EMA(10,Modern)  \\\n",
       "0  74.29  75.03  74.25  74.97  47777680      73.539947       72.845158   \n",
       "1  75.02  75.35  74.82  75.30  31417856      74.126632       73.291493   \n",
       "2  75.36  75.52  75.17  75.47  19790960      74.574421       73.687585   \n",
       "3  75.54  75.59  75.18  75.37  31747088      74.839614       73.993479   \n",
       "4  75.60  75.74  75.35  75.56  24631504      75.079743       74.278301   \n",
       "5  75.54  75.74  75.25  75.37  36278800      75.176495       74.476791   \n",
       "6  74.72  74.74  74.37  74.59  37734064      74.980997       74.497375   \n",
       "7  74.87  74.98  74.58  74.81  21135856      74.923998       74.554216   \n",
       "8  74.95  74.96  74.20  74.26  24748784      74.702665       74.500722   \n",
       "9  74.99  75.02  74.33  74.50  24426800      74.635110       74.500591   \n",
       "\n",
       "   EMA(20,Modern)  EMA(50,Modern)  EMA(100,Modern)  \\\n",
       "0       72.461162       71.972482        70.656830   \n",
       "1       72.731527       72.102973        70.748774   \n",
       "2       72.992334       72.235014        70.842263   \n",
       "3       73.218778       72.357954        70.931922   \n",
       "4       73.441752       72.483525        71.023567   \n",
       "5       73.625395       72.596720        71.109635   \n",
       "6       73.717262       72.674888        71.178553   \n",
       "7       73.821332       72.758618        71.250463   \n",
       "8       73.863110       72.817495        71.310057   \n",
       "9       73.923766       72.883476        71.373225   \n",
       "\n",
       "   KST(10,10|15,10|20,10|30,15)    SMA(10)    RSI(14)  MACD(12,26)  \\\n",
       "0                    -11.015488 -19.008037  68.564802     0.320974   \n",
       "1                     -5.393682 -18.040074  69.980978     0.504247   \n",
       "2                      1.086812 -16.148103  70.712953     0.655652   \n",
       "3                      7.455043 -13.316985  69.637287     0.758826   \n",
       "4                     13.331365  -9.638165  70.553815     0.846169   \n",
       "5                     18.388674  -5.397193  68.332466     0.889800   \n",
       "6                     22.600018  -0.835357  59.983144     0.851622   \n",
       "7                     26.997988   3.980545  61.415178     0.829555   \n",
       "8                     30.675704   8.869796  56.018046     0.758937   \n",
       "9                     34.158986  13.828542  57.762343     0.714107   \n",
       "\n",
       "   EMA(9,Modern)  Histogram  res6_Close  res11_Close  res21_Close  res41_Close  \n",
       "0      -0.041576   0.362550   -0.506869     0.533547     2.027478     3.814859  \n",
       "1       0.067589   0.436659   -0.650730    -0.092961     1.819389     3.864542  \n",
       "2       0.185202   0.470451   -1.603286     0.212005     2.159799     3.431827  \n",
       "3       0.299926   0.458899   -1.154305     0.530715     1.910574     3.502720  \n",
       "4       0.409175   0.436994   -0.780836     1.296983    -0.066173     3.308629  \n",
       "5       0.505300   0.384500    0.000000     2.122861     0.152581     3.290434  \n",
       "6       0.574564   0.277057    0.858024     3.257809     1.018903     5.067703  \n",
       "7       0.625562   0.203992    1.096110     2.339259     1.162946     6.015239  \n",
       "8       0.652237   0.106700    2.033396     2.908699     1.562079     7.056289  \n",
       "9       0.664611   0.049496    2.738255     3.087248     2.228188     6.020134  "
      ]
     },
     "execution_count": 8,
     "metadata": {},
     "output_type": "execute_result"
    }
   ],
   "source": [
    "QQQ_df_clean.head(10)"
   ]
  },
  {
   "cell_type": "markdown",
   "metadata": {},
   "source": [
    "## Analyze the repsonse variables"
   ]
  },
  {
   "cell_type": "markdown",
   "metadata": {},
   "source": [
    "### Distributions of response variables"
   ]
  },
  {
   "cell_type": "markdown",
   "metadata": {},
   "source": [
    "As well known, in order to model the stock price change in mathematical finance, the fractional price change is assumed to have Gaussian distributions. We would like to inspect this assumption in our data. \n",
    "\n",
    "We first calculate the sample mean $\\hat{\\mu}$ and sample variance $\\hat{\\sigma}^2$ of response variables and then compare the histogram to the correspondng Gaussian distribution with parameters $\\hat{\\mu}$ and $\\hat{\\sigma}^2$. "
   ]
  },
  {
   "cell_type": "code",
   "execution_count": 9,
   "metadata": {},
   "outputs": [],
   "source": [
    "import scipy.stats as stats\n",
    "from scipy.stats import norm\n",
    "\n",
    "\n",
    "def plot_hist_norm(data, et):\n",
    "    plt.hist(data, bins=50, density=True, alpha=0.6, color='g')\n",
    "    mu, std = norm.fit(data)\n",
    "    \n",
    "    plt.xlim(-15,15) # set xlim to (-15,15)\n",
    "    xmin, xmax = plt.xlim()\n",
    "    x = np.linspace(xmin, xmax, 100)\n",
    "    p = norm.pdf(x, mu, std)\n",
    "    plt.plot(x, p, 'k', linewidth=2, label=\"$\\mu={0:.2f}, \\sigma={1:.2f}$\".format(mu,std))\n",
    "    #plt.plot(x, p, 'k', linewidth=2)\n",
    "    title = \"Fit results: mu = %.2f,  std = %.2f\" % (mu, std)\n",
    "    #plt.title(title)\n",
    "    plt.xlabel('% change after '+str(et)+' days')\n",
    "    plt.ylabel('PDF')\n",
    "    plt.legend(loc=\"upper left\", prop={'size': 14})"
   ]
  },
  {
   "cell_type": "code",
   "execution_count": 10,
   "metadata": {
    "scrolled": false
   },
   "outputs": [
    {
     "data": {
      "image/png": "[encoded data removed]",
      "text/plain": [
       "<matplotlib.figure.Figure at 0x108c36be0>"
      ]
     },
     "metadata": {},
     "output_type": "display_data"
    }
   ],
   "source": [
    "plt.figure(figsize=(7,12))\n",
    "plt.rcParams.update({'font.size': 16, 'lines.markersize': 10})\n",
    "\n",
    "plt.subplot(2, 1, 1)\n",
    "et = 6\n",
    "data = QQQ_df_clean['res'+str(et)+'_Close']\n",
    "plot_hist_norm(data, et)\n",
    "\n",
    "plt.subplot(2, 1, 2)\n",
    "et = 21\n",
    "data = QQQ_df_clean['res'+str(et)+'_Close']\n",
    "plot_hist_norm(data, et)"
   ]
  },
  {
   "cell_type": "markdown",
   "metadata": {},
   "source": [
    "We can see that the histogram tilted comparing to the corresponding Gaussian distribution. "
   ]
  },
  {
   "cell_type": "markdown",
   "metadata": {},
   "source": [
    "### Fit distribution of response variables"
   ]
  },
  {
   "cell_type": "markdown",
   "metadata": {},
   "source": [
    "Next, we fit the histogram using Gaussian distribution with two fitting parameters $\\mu$ and $\\sigma^2$. The correspnding normal probability plot is shown as well. "
   ]
  },
  {
   "cell_type": "code",
   "execution_count": 11,
   "metadata": {},
   "outputs": [],
   "source": [
    "from scipy.optimize import curve_fit\n",
    "\n",
    "def func(x, a, b):\n",
    "   return 1.0/np.sqrt(2*np.pi*b)*np.exp(-(x-a)**2/2/b)\n",
    "\n",
    "def plot_hist_norm_fitting(data, et):\n",
    "    plt.figure(figsize=(15,6))\n",
    "    plt.rcParams.update({'font.size': 16, 'lines.markersize': 10})\n",
    "\n",
    "    plt.subplot(1, 2, 1)\n",
    "    nbins = 50\n",
    "    fig1 = plt.hist(data, bins=nbins, density=True, alpha=0.6, color='g')\n",
    "    mu, std = norm.fit(data)\n",
    "    xmin, xmax = plt.xlim()\n",
    "    x = np.linspace(xmin, xmax, 100)\n",
    "    p = norm.pdf(x, mu, std)\n",
    "    plt.plot(x, p, 'k--', linewidth=2, label=\"$\\mu={0:.2f}, \\sigma={1:.2f}$\".format(mu,std))\n",
    "\n",
    "    # find middle point of each bin \n",
    "    x1 = []\n",
    "    dx = (fig1[1][-1] - fig1[1][0]) / nbins\n",
    "    for i in range(len(fig1[1])-1):\n",
    "        x1.append((fig1[1][i]+fig1[1][i+1])/2.0)\n",
    "    y1 = fig1[0]\n",
    "\n",
    "    p0 = np.array([0,1])  # initial guess of fitting parameters\n",
    "    params, paramvar = curve_fit(func, x1, y1, p0)\n",
    "    plt.plot(x, func(x, *params), 'r',linewidth=2, \n",
    "             label=\"$\\mu={0:.2f}, \\sigma={1:.2f}$\".format(params[0],np.sqrt(params[1])))\n",
    "    \n",
    "    #   title = \"Fit results: mu = %.2f,  std = %.2f\" % (params[0], np.sqrt(params[1]))\n",
    "    #   plt.title(title)\n",
    "    plt.xlabel('% change after '+str(et)+' days')\n",
    "    plt.ylabel('PDF')\n",
    "    plt.legend(loc=\"upper left\", prop={'size': 14})\n",
    "    \n",
    "    plt.subplot(1, 2, 2)\n",
    "    stats.probplot(data, dist=\"norm\", sparams=(params[0],np.sqrt(params[1])), plot=plt)"
   ]
  },
  {
   "cell_type": "code",
   "execution_count": 12,
   "metadata": {},
   "outputs": [
    {
     "data": {
      "image/png": "[encoded data removed]",
      "text/plain": [
       "<matplotlib.figure.Figure at 0x1c15e76208>"
      ]
     },
     "metadata": {},
     "output_type": "display_data"
    }
   ],
   "source": [
    "et = 6\n",
    "data = QQQ_df_clean['res'+str(et)+'_Close']\n",
    "plot_hist_norm_fitting(data, et)"
   ]
  },
  {
   "cell_type": "code",
   "execution_count": 13,
   "metadata": {},
   "outputs": [
    {
     "data": {
      "image/png": "[encoded data removed]",
      "text/plain": [
       "<matplotlib.figure.Figure at 0x1c169b2160>"
      ]
     },
     "metadata": {},
     "output_type": "display_data"
    }
   ],
   "source": [
    "et = 21\n",
    "data = QQQ_df_clean['res'+str(et)+'_Close']\n",
    "plot_hist_norm_fitting(data, et)"
   ]
  },
  {
   "cell_type": "markdown",
   "metadata": {},
   "source": [
    "A Gaussian distribution with fitting parameters $\\mu$ and $\\sigma^2$ can be used to fit the data. The fitting curves are displayed by red solid lines. Now we can see the histogram has a relatively convincing bell shape except around both ends of the tails. \n",
    "\n",
    "In addition, for the visualization purpose, the probability plot can be constructed for detecting whether the distribution follows a theoretical estimation or not. The same conclusion can be extracted from the probability plot.  \n",
    "\n",
    "Such behavior was well known in finance business (people would feel panic when they observe the stock price drops a lot and then would keep selling more). "
   ]
  },
  {
   "cell_type": "markdown",
   "metadata": {},
   "source": [
    "## Model Selection Using Subset Selection Approach "
   ]
  },
  {
   "cell_type": "markdown",
   "metadata": {},
   "source": [
    "### Create design matrix and response variable"
   ]
  },
  {
   "cell_type": "code",
   "execution_count": 14,
   "metadata": {},
   "outputs": [],
   "source": [
    "y = QQQ_df_clean.res6_Close\n",
    "X = QQQ_df_clean.drop(['res6_Close','res11_Close','res21_Close','res41_Close'],axis=1).astype('float64')"
   ]
  },
  {
   "cell_type": "markdown",
   "metadata": {},
   "source": [
    "### Best subset selection"
   ]
  },
  {
   "cell_type": "markdown",
   "metadata": {},
   "source": [
    "We can perform best subset selection by identifying the best model that contains a given number of predictors, where **best** is quantified using RSS."
   ]
  },
  {
   "cell_type": "code",
   "execution_count": 15,
   "metadata": {},
   "outputs": [],
   "source": [
    "def processSubset(feature_set):\n",
    "    # Fit model on feature_set and calculate RSS\n",
    "    model = sm.GLS(y,X[list(feature_set)])\n",
    "    regr = model.fit()\n",
    "    RSS = ((regr.predict(X[list(feature_set)]) - y) ** 2).sum()\n",
    "    return {\"model\":regr, \"RSS\":RSS}"
   ]
  },
  {
   "cell_type": "code",
   "execution_count": 16,
   "metadata": {},
   "outputs": [],
   "source": [
    "def getBest(k):\n",
    "    \n",
    "    tic = time.time()\n",
    "    \n",
    "    results = []\n",
    "    \n",
    "    # go through all possible combinations of feature list\n",
    "    for combo in itertools.combinations(X.columns, k):\n",
    "        results.append(processSubset(combo))\n",
    "    \n",
    "    # Wrap everything up in a nice dataframe\n",
    "    models = pd.DataFrame(results)\n",
    "    \n",
    "    # Choose the model with the lowest RSS\n",
    "    best_model = models.loc[models['RSS'].idxmin()]\n",
    "    \n",
    "    toc = time.time()\n",
    "    print(\"Processed {0:7d} models on {1:3d} predictors in {2:.5f} seconds.\".format(models.shape[0], k, toc-tic))\n",
    "    \n",
    "    # Return the best model, along with some other useful information about the model\n",
    "    return best_model"
   ]
  },
  {
   "cell_type": "markdown",
   "metadata": {},
   "source": [
    "This returns a DataFrame containing the best model that we generated, along with some extra information about the model. Now we want to call that function for each number of predictors $k$ :"
   ]
  },
  {
   "cell_type": "code",
   "execution_count": 17,
   "metadata": {},
   "outputs": [
    {
     "name": "stdout",
     "output_type": "stream",
     "text": [
      "Processed      16 models on   1 predictors in 0.12184 seconds.\n",
      "Processed     120 models on   2 predictors in 0.32624 seconds.\n",
      "Processed     560 models on   3 predictors in 1.87322 seconds.\n",
      "Processed    1820 models on   4 predictors in 5.18522 seconds.\n",
      "Processed    4368 models on   5 predictors in 11.34968 seconds.\n",
      "Processed    8008 models on   6 predictors in 22.35699 seconds.\n",
      "Processed   11440 models on   7 predictors in 32.71039 seconds.\n",
      "Processed   12870 models on   8 predictors in 38.93883 seconds.\n",
      "Processed   11440 models on   9 predictors in 37.33750 seconds.\n",
      "Processed    8008 models on  10 predictors in 25.64172 seconds.\n",
      "Processed    4368 models on  11 predictors in 13.92829 seconds.\n",
      "Processed    1820 models on  12 predictors in 6.09146 seconds.\n",
      "Processed     560 models on  13 predictors in 1.95606 seconds.\n",
      "Processed     120 models on  14 predictors in 0.44200 seconds.\n",
      "Processed      16 models on  15 predictors in 0.06062 seconds.\n",
      "Processed       1 models on  16 predictors in 0.01161 seconds.\n",
      "Total elapsed time: 198.40442395210266 seconds.\n"
     ]
    }
   ],
   "source": [
    "models_best = pd.DataFrame(columns=[\"RSS\", \"model\"])\n",
    "\n",
    "tic = time.time()\n",
    "for i in range(1,17):\n",
    "    models_best.loc[i] = getBest(i)\n",
    "\n",
    "toc = time.time()\n",
    "print(\"Total elapsed time:\", (toc-tic), \"seconds.\")"
   ]
  },
  {
   "cell_type": "code",
   "execution_count": 18,
   "metadata": {},
   "outputs": [
    {
     "data": {
      "text/html": [
       "<div>\n",
       "<style scoped>\n",
       "    .dataframe tbody tr th:only-of-type {\n",
       "        vertical-align: middle;\n",
       "    }\n",
       "\n",
       "    .dataframe tbody tr th {\n",
       "        vertical-align: top;\n",
       "    }\n",
       "\n",
       "    .dataframe thead th {\n",
       "        text-align: right;\n",
       "    }\n",
       "</style>\n",
       "<table border=\"1\" class=\"dataframe\">\n",
       "  <thead>\n",
       "    <tr style=\"text-align: right;\">\n",
       "      <th></th>\n",
       "      <th>RSS</th>\n",
       "      <th>model</th>\n",
       "    </tr>\n",
       "  </thead>\n",
       "  <tbody>\n",
       "    <tr>\n",
       "      <th>1</th>\n",
       "      <td>7683.247577</td>\n",
       "      <td>&lt;statsmodels.regression.linear_model.Regressio...</td>\n",
       "    </tr>\n",
       "    <tr>\n",
       "      <th>2</th>\n",
       "      <td>7554.013380</td>\n",
       "      <td>&lt;statsmodels.regression.linear_model.Regressio...</td>\n",
       "    </tr>\n",
       "    <tr>\n",
       "      <th>3</th>\n",
       "      <td>7463.665889</td>\n",
       "      <td>&lt;statsmodels.regression.linear_model.Regressio...</td>\n",
       "    </tr>\n",
       "    <tr>\n",
       "      <th>4</th>\n",
       "      <td>7431.565995</td>\n",
       "      <td>&lt;statsmodels.regression.linear_model.Regressio...</td>\n",
       "    </tr>\n",
       "    <tr>\n",
       "      <th>5</th>\n",
       "      <td>7369.554687</td>\n",
       "      <td>&lt;statsmodels.regression.linear_model.Regressio...</td>\n",
       "    </tr>\n",
       "    <tr>\n",
       "      <th>6</th>\n",
       "      <td>7326.242940</td>\n",
       "      <td>&lt;statsmodels.regression.linear_model.Regressio...</td>\n",
       "    </tr>\n",
       "    <tr>\n",
       "      <th>7</th>\n",
       "      <td>7288.865323</td>\n",
       "      <td>&lt;statsmodels.regression.linear_model.Regressio...</td>\n",
       "    </tr>\n",
       "    <tr>\n",
       "      <th>8</th>\n",
       "      <td>7258.615973</td>\n",
       "      <td>&lt;statsmodels.regression.linear_model.Regressio...</td>\n",
       "    </tr>\n",
       "    <tr>\n",
       "      <th>9</th>\n",
       "      <td>7231.367569</td>\n",
       "      <td>&lt;statsmodels.regression.linear_model.Regressio...</td>\n",
       "    </tr>\n",
       "    <tr>\n",
       "      <th>10</th>\n",
       "      <td>7201.099856</td>\n",
       "      <td>&lt;statsmodels.regression.linear_model.Regressio...</td>\n",
       "    </tr>\n",
       "    <tr>\n",
       "      <th>11</th>\n",
       "      <td>7193.070690</td>\n",
       "      <td>&lt;statsmodels.regression.linear_model.Regressio...</td>\n",
       "    </tr>\n",
       "    <tr>\n",
       "      <th>12</th>\n",
       "      <td>7183.221791</td>\n",
       "      <td>&lt;statsmodels.regression.linear_model.Regressio...</td>\n",
       "    </tr>\n",
       "    <tr>\n",
       "      <th>13</th>\n",
       "      <td>7174.099638</td>\n",
       "      <td>&lt;statsmodels.regression.linear_model.Regressio...</td>\n",
       "    </tr>\n",
       "    <tr>\n",
       "      <th>14</th>\n",
       "      <td>7174.014392</td>\n",
       "      <td>&lt;statsmodels.regression.linear_model.Regressio...</td>\n",
       "    </tr>\n",
       "    <tr>\n",
       "      <th>15</th>\n",
       "      <td>7170.644789</td>\n",
       "      <td>&lt;statsmodels.regression.linear_model.Regressio...</td>\n",
       "    </tr>\n",
       "    <tr>\n",
       "      <th>16</th>\n",
       "      <td>7174.009454</td>\n",
       "      <td>&lt;statsmodels.regression.linear_model.Regressio...</td>\n",
       "    </tr>\n",
       "  </tbody>\n",
       "</table>\n",
       "</div>"
      ],
      "text/plain": [
       "            RSS                                              model\n",
       "1   7683.247577  <statsmodels.regression.linear_model.Regressio...\n",
       "2   7554.013380  <statsmodels.regression.linear_model.Regressio...\n",
       "3   7463.665889  <statsmodels.regression.linear_model.Regressio...\n",
       "4   7431.565995  <statsmodels.regression.linear_model.Regressio...\n",
       "5   7369.554687  <statsmodels.regression.linear_model.Regressio...\n",
       "6   7326.242940  <statsmodels.regression.linear_model.Regressio...\n",
       "7   7288.865323  <statsmodels.regression.linear_model.Regressio...\n",
       "8   7258.615973  <statsmodels.regression.linear_model.Regressio...\n",
       "9   7231.367569  <statsmodels.regression.linear_model.Regressio...\n",
       "10  7201.099856  <statsmodels.regression.linear_model.Regressio...\n",
       "11  7193.070690  <statsmodels.regression.linear_model.Regressio...\n",
       "12  7183.221791  <statsmodels.regression.linear_model.Regressio...\n",
       "13  7174.099638  <statsmodels.regression.linear_model.Regressio...\n",
       "14  7174.014392  <statsmodels.regression.linear_model.Regressio...\n",
       "15  7170.644789  <statsmodels.regression.linear_model.Regressio...\n",
       "16  7174.009454  <statsmodels.regression.linear_model.Regressio..."
      ]
     },
     "execution_count": 18,
     "metadata": {},
     "output_type": "execute_result"
    }
   ],
   "source": [
    "models_best"
   ]
  },
  {
   "cell_type": "code",
   "execution_count": 19,
   "metadata": {},
   "outputs": [
    {
     "name": "stdout",
     "output_type": "stream",
     "text": [
      "                            GLS Regression Results                            \n",
      "==============================================================================\n",
      "Dep. Variable:             res6_Close   R-squared:                       0.055\n",
      "Model:                            GLS   Adj. R-squared:                  0.053\n",
      "Method:                 Least Squares   F-statistic:                     26.36\n",
      "Date:                Sun, 12 Apr 2020   Prob (F-statistic):           1.41e-16\n",
      "Time:                        23:56:03   Log-Likelihood:                -3105.2\n",
      "No. Observations:                1370   AIC:                             6216.\n",
      "Df Residuals:                    1367   BIC:                             6232.\n",
      "Df Model:                           3                                         \n",
      "Covariance Type:            nonrobust                                         \n",
      "==================================================================================\n",
      "                     coef    std err          t      P>|t|      [0.025      0.975]\n",
      "----------------------------------------------------------------------------------\n",
      "EMA(5,Modern)     -0.8199      0.106     -7.770      0.000      -1.027      -0.613\n",
      "EMA(10,Modern)     0.8148      0.105      7.788      0.000       0.610       1.020\n",
      "RSI(14)            0.0190      0.004      4.457      0.000       0.011       0.027\n",
      "==============================================================================\n",
      "Omnibus:                      221.175   Durbin-Watson:                   0.360\n",
      "Prob(Omnibus):                  0.000   Jarque-Bera (JB):              515.011\n",
      "Skew:                          -0.899   Prob(JB):                    1.47e-112\n",
      "Kurtosis:                       5.406   Cond. No.                         433.\n",
      "==============================================================================\n",
      "\n",
      "Warnings:\n",
      "[1] Standard Errors assume that the covariance matrix of the errors is correctly specified.\n"
     ]
    }
   ],
   "source": [
    "print(models_best.loc[3, \"model\"].summary())"
   ]
  },
  {
   "cell_type": "code",
   "execution_count": 20,
   "metadata": {},
   "outputs": [
    {
     "data": {
      "text/plain": [
       "1     0.026877\n",
       "2     0.043245\n",
       "3     0.054688\n",
       "4     0.058754\n",
       "5     0.066608\n",
       "6     0.072094\n",
       "7     0.076828\n",
       "8     0.080659\n",
       "9     0.084110\n",
       "10    0.087944\n",
       "11    0.088961\n",
       "12    0.090208\n",
       "13    0.091363\n",
       "14    0.091374\n",
       "15    0.091801\n",
       "16    0.091375\n",
       "dtype: float64"
      ]
     },
     "execution_count": 20,
     "metadata": {},
     "output_type": "execute_result"
    }
   ],
   "source": [
    "# Gets the second element from each row ('model') and pulls out its rsquared attribute\n",
    "models_best.apply(lambda row: row[1].rsquared, axis=1)"
   ]
  },
  {
   "cell_type": "markdown",
   "metadata": {},
   "source": [
    "As expected, the $R^2$ statistic increases monotonically as more variables are included."
   ]
  },
  {
   "cell_type": "markdown",
   "metadata": {},
   "source": [
    "Plotting RSS, adjusted $R^2$, AIC, and BIC for all of the models at once will help us decide which model to select."
   ]
  },
  {
   "cell_type": "code",
   "execution_count": 21,
   "metadata": {},
   "outputs": [
    {
     "data": {
      "text/plain": [
       "Text(0,0.5,'BIC')"
      ]
     },
     "execution_count": 21,
     "metadata": {},
     "output_type": "execute_result"
    },
    {
     "data": {
      "image/png": "[encoded data removed]",
      "text/plain": [
       "<matplotlib.figure.Figure at 0x1c8418b5c0>"
      ]
     },
     "metadata": {},
     "output_type": "display_data"
    }
   ],
   "source": [
    "plt.figure(figsize=(15,10))\n",
    "plt.rcParams.update({'font.size': 18, 'lines.markersize': 10})\n",
    "\n",
    "# Set up a 2x2 grid so we can look at 4 plots at once\n",
    "plt.subplot(2, 2, 1)\n",
    "\n",
    "plt.plot(models_best[\"RSS\"])\n",
    "plt.xlabel('# Predictors')\n",
    "plt.ylabel('RSS')\n",
    "\n",
    "# We will now plot a red dot to indicate the model with the largest adjusted R^2 statistic.\n",
    "# The argmax() function can be used to identify the location of the maximum point of a vector\n",
    "\n",
    "rsquared_adj = models_best.apply(lambda row: row[1].rsquared_adj, axis=1)\n",
    "\n",
    "plt.subplot(2, 2, 2)\n",
    "plt.plot(rsquared_adj)\n",
    "plt.plot(rsquared_adj.idxmax(), rsquared_adj.max(), \"or\")\n",
    "plt.xlabel('# Predictors')\n",
    "plt.ylabel('adjusted rsquared')\n",
    "\n",
    "# We'll do the same for AIC and BIC, this time looking for the models with the SMALLEST statistic\n",
    "aic = models_best.apply(lambda row: row[1].aic, axis=1)\n",
    "\n",
    "plt.subplot(2, 2, 3)\n",
    "plt.plot(aic)\n",
    "plt.plot(aic.idxmin(), aic.min(), \"or\")\n",
    "plt.xlabel('# Predictors')\n",
    "plt.ylabel('AIC')\n",
    "\n",
    "bic = models_best.apply(lambda row: row[1].bic, axis=1)\n",
    "\n",
    "plt.subplot(2, 2, 4)\n",
    "plt.plot(bic)\n",
    "plt.plot(bic.idxmin(), bic.min(), \"or\")\n",
    "plt.xlabel('# Predictors')\n",
    "plt.ylabel('BIC')\n"
   ]
  },
  {
   "cell_type": "markdown",
   "metadata": {},
   "source": [
    "### Foward selection"
   ]
  },
  {
   "cell_type": "markdown",
   "metadata": {},
   "source": [
    "We can also use a similar approach to perform forward stepwise selection, using a slight modification of the functions we defined above:"
   ]
  },
  {
   "cell_type": "code",
   "execution_count": 22,
   "metadata": {},
   "outputs": [],
   "source": [
    "def forward(predictors):\n",
    "\n",
    "    # Pull out predictors we still need to process\n",
    "    remaining_predictors = [p for p in X.columns if p not in predictors]\n",
    "    \n",
    "    tic = time.time()\n",
    "    \n",
    "    results = []\n",
    "    \n",
    "    for p in remaining_predictors:\n",
    "        results.append(processSubset(predictors+[p]))\n",
    "    \n",
    "    # Wrap everything up in a nice dataframe\n",
    "    models = pd.DataFrame(results)\n",
    "    \n",
    "    # Choose the model with the smallest RSS\n",
    "    best_model = models.loc[models['RSS'].idxmin()]\n",
    "    \n",
    "    toc = time.time()\n",
    "    print(\"Processed {0:3d} models on {1:3d} predictors in {2:.5f} seconds.\".format(models.shape[0], len(predictors)+1, toc-tic))\n",
    "    \n",
    "    # Return the best model, along with some other useful information about the model\n",
    "    return best_model"
   ]
  },
  {
   "cell_type": "markdown",
   "metadata": {},
   "source": [
    "Now let's see how much faster it runs!"
   ]
  },
  {
   "cell_type": "code",
   "execution_count": 23,
   "metadata": {},
   "outputs": [
    {
     "name": "stdout",
     "output_type": "stream",
     "text": [
      "Processed  16 models on   1 predictors in 0.41506 seconds.\n",
      "Processed  15 models on   2 predictors in 0.03690 seconds.\n",
      "Processed  14 models on   3 predictors in 0.03750 seconds.\n",
      "Processed  13 models on   4 predictors in 0.03660 seconds.\n",
      "Processed  12 models on   5 predictors in 0.03772 seconds.\n",
      "Processed  11 models on   6 predictors in 0.03936 seconds.\n",
      "Processed  10 models on   7 predictors in 0.05543 seconds.\n",
      "Processed   9 models on   8 predictors in 0.04431 seconds.\n",
      "Processed   8 models on   9 predictors in 0.03115 seconds.\n",
      "Processed   7 models on  10 predictors in 0.03006 seconds.\n",
      "Processed   6 models on  11 predictors in 0.02530 seconds.\n",
      "Processed   5 models on  12 predictors in 0.01927 seconds.\n",
      "Processed   4 models on  13 predictors in 0.01591 seconds.\n",
      "Processed   3 models on  14 predictors in 0.01118 seconds.\n",
      "Processed   2 models on  15 predictors in 0.01154 seconds.\n",
      "Processed   1 models on  16 predictors in 0.00849 seconds.\n",
      "Total elapsed time: 0.91215 seconds\n"
     ]
    }
   ],
   "source": [
    "models_fwd = pd.DataFrame(columns=[\"RSS\", \"model\"])\n",
    "\n",
    "tic = time.time()\n",
    "predictors = []\n",
    "\n",
    "for i in range(1,len(X.columns)+1):    \n",
    "    models_fwd.loc[i] = forward(predictors)\n",
    "    predictors = models_fwd.loc[i][\"model\"].model.exog_names\n",
    "\n",
    "toc = time.time()\n",
    "print(\"Total elapsed time: {0:.5f} seconds\".format(toc-tic))"
   ]
  },
  {
   "cell_type": "markdown",
   "metadata": {},
   "source": [
    "Let's see how the models stack up against best subset selection:"
   ]
  },
  {
   "cell_type": "code",
   "execution_count": 24,
   "metadata": {},
   "outputs": [
    {
     "name": "stdout",
     "output_type": "stream",
     "text": [
      "                            GLS Regression Results                            \n",
      "==============================================================================\n",
      "Dep. Variable:             res6_Close   R-squared:                       0.072\n",
      "Model:                            GLS   Adj. R-squared:                  0.068\n",
      "Method:                 Least Squares   F-statistic:                     17.66\n",
      "Date:                Mon, 13 Apr 2020   Prob (F-statistic):           8.68e-20\n",
      "Time:                        13:36:48   Log-Likelihood:                -3092.5\n",
      "No. Observations:                1370   AIC:                             6197.\n",
      "Df Residuals:                    1364   BIC:                             6228.\n",
      "Df Model:                           6                                         \n",
      "Covariance Type:            nonrobust                                         \n",
      "==================================================================================\n",
      "                     coef    std err          t      P>|t|      [0.025      0.975]\n",
      "----------------------------------------------------------------------------------\n",
      "EMA(5,Modern)      1.8250      0.406      4.497      0.000       1.029       2.621\n",
      "EMA(20,Modern)    -2.5390      0.582     -4.360      0.000      -3.681      -1.397\n",
      "EMA(50,Modern)     0.7068      0.192      3.677      0.000       0.330       1.084\n",
      "SMA(10)           -0.0428      0.008     -5.154      0.000      -0.059      -0.027\n",
      "RSI(14)            0.0281      0.005      5.807      0.000       0.019       0.038\n",
      "Histogram         -7.8643      1.378     -5.706      0.000     -10.568      -5.161\n",
      "==============================================================================\n",
      "Omnibus:                      243.718   Durbin-Watson:                   0.390\n",
      "Prob(Omnibus):                  0.000   Jarque-Bera (JB):              618.999\n",
      "Skew:                          -0.951   Prob(JB):                    3.86e-135\n",
      "Kurtosis:                       5.688   Cond. No.                     5.48e+03\n",
      "==============================================================================\n",
      "\n",
      "Warnings:\n",
      "[1] Standard Errors assume that the covariance matrix of the errors is correctly specified.\n",
      "[2] The condition number is large, 5.48e+03. This might indicate that there are\n",
      "strong multicollinearity or other numerical problems.\n",
      "                            GLS Regression Results                            \n",
      "==============================================================================\n",
      "Dep. Variable:             res6_Close   R-squared:                       0.067\n",
      "Model:                            GLS   Adj. R-squared:                  0.063\n",
      "Method:                 Least Squares   F-statistic:                     16.45\n",
      "Date:                Mon, 13 Apr 2020   Prob (F-statistic):           2.26e-18\n",
      "Time:                        13:36:48   Log-Likelihood:                -3095.9\n",
      "No. Observations:                1370   AIC:                             6204.\n",
      "Df Residuals:                    1364   BIC:                             6235.\n",
      "Df Model:                           6                                         \n",
      "Covariance Type:            nonrobust                                         \n",
      "================================================================================================\n",
      "                                   coef    std err          t      P>|t|      [0.025      0.975]\n",
      "------------------------------------------------------------------------------------------------\n",
      "Histogram                       -2.7115      0.402     -6.752      0.000      -3.499      -1.924\n",
      "RSI(14)                          0.0246      0.005      5.039      0.000       0.015       0.034\n",
      "SMA(10)                         -0.0450      0.009     -4.849      0.000      -0.063      -0.027\n",
      "KST(10,10|15,10|20,10|30,15)     0.0239      0.010      2.468      0.014       0.005       0.043\n",
      "EMA(100,Modern)                 -0.0077      0.002     -3.570      0.000      -0.012      -0.003\n",
      "MACD(12,26)                      0.2279      0.203      1.122      0.262      -0.171       0.627\n",
      "==============================================================================\n",
      "Omnibus:                      223.808   Durbin-Watson:                   0.368\n",
      "Prob(Omnibus):                  0.000   Jarque-Bera (JB):              520.146\n",
      "Skew:                          -0.909   Prob(JB):                    1.13e-113\n",
      "Kurtosis:                       5.410   Cond. No.                         917.\n",
      "==============================================================================\n",
      "\n",
      "Warnings:\n",
      "[1] Standard Errors assume that the covariance matrix of the errors is correctly specified.\n"
     ]
    }
   ],
   "source": [
    "print(models_best.loc[6, \"model\"].summary())\n",
    "print(models_fwd.loc[6, \"model\"].summary())"
   ]
  },
  {
   "cell_type": "markdown",
   "metadata": {},
   "source": [
    "### Backward selection"
   ]
  },
  {
   "cell_type": "markdown",
   "metadata": {},
   "source": [
    "We can also use a similar approach to perform backward stepwise selection, using a slight modification of the functions we defined above:"
   ]
  },
  {
   "cell_type": "code",
   "execution_count": 25,
   "metadata": {},
   "outputs": [],
   "source": [
    "def backward(predictors):\n",
    "    \n",
    "    tic = time.time()\n",
    "    \n",
    "    results = []\n",
    "    \n",
    "    for combo in itertools.combinations(predictors, len(predictors)-1):\n",
    "        results.append(processSubset(combo))\n",
    "    \n",
    "    # Wrap everything up in a nice dataframe\n",
    "    models = pd.DataFrame(results)\n",
    "    \n",
    "    # Choose the model with the highest RSS\n",
    "    best_model = models.loc[models['RSS'].idxmin()]\n",
    "    \n",
    "    toc = time.time()\n",
    "    print(\"Processed \", models.shape[0], \"models on\", len(predictors)-1, \"predictors in\", (toc-tic), \"seconds.\")\n",
    "    \n",
    "    # Return the best model, along with some other useful information about the model\n",
    "    return best_model"
   ]
  },
  {
   "cell_type": "code",
   "execution_count": 26,
   "metadata": {},
   "outputs": [
    {
     "name": "stdout",
     "output_type": "stream",
     "text": [
      "Processed  16 models on 15 predictors in 0.10280394554138184 seconds.\n",
      "Processed  15 models on 14 predictors in 0.06395506858825684 seconds.\n",
      "Processed  14 models on 13 predictors in 0.05147695541381836 seconds.\n",
      "Processed  13 models on 12 predictors in 0.04394888877868652 seconds.\n",
      "Processed  12 models on 11 predictors in 0.04690289497375488 seconds.\n",
      "Processed  11 models on 10 predictors in 0.06058692932128906 seconds.\n",
      "Processed  10 models on 9 predictors in 0.03653120994567871 seconds.\n",
      "Processed  9 models on 8 predictors in 0.028018951416015625 seconds.\n",
      "Processed  8 models on 7 predictors in 0.029018878936767578 seconds.\n",
      "Processed  7 models on 6 predictors in 0.02841496467590332 seconds.\n",
      "Processed  6 models on 5 predictors in 0.0322718620300293 seconds.\n",
      "Processed  5 models on 4 predictors in 0.036038875579833984 seconds.\n",
      "Processed  4 models on 3 predictors in 0.0178220272064209 seconds.\n",
      "Processed  3 models on 2 predictors in 0.015832901000976562 seconds.\n",
      "Processed  2 models on 1 predictors in 0.010480165481567383 seconds.\n",
      "Total elapsed time: 0.628242015838623 seconds.\n"
     ]
    }
   ],
   "source": [
    "models_bwd = pd.DataFrame(columns=[\"RSS\", \"model\"], index = range(1,len(X.columns)))\n",
    "\n",
    "tic = time.time()\n",
    "predictors = X.columns\n",
    "\n",
    "while(len(predictors) > 1):  \n",
    "    models_bwd.loc[len(predictors)-1] = backward(predictors)\n",
    "    predictors = models_bwd.loc[len(predictors)-1][\"model\"].model.exog_names\n",
    "\n",
    "toc = time.time()\n",
    "print(\"Total elapsed time:\", (toc-tic), \"seconds.\")"
   ]
  },
  {
   "cell_type": "code",
   "execution_count": 27,
   "metadata": {},
   "outputs": [
    {
     "name": "stdout",
     "output_type": "stream",
     "text": [
      "------------\n",
      "Best Subset:\n",
      "------------\n",
      "EMA(5,Modern)     1.825036\n",
      "EMA(20,Modern)   -2.539017\n",
      "EMA(50,Modern)    0.706772\n",
      "SMA(10)          -0.042800\n",
      "RSI(14)           0.028080\n",
      "Histogram        -7.864310\n",
      "dtype: float64\n"
     ]
    }
   ],
   "source": [
    "print(\"------------\")\n",
    "print(\"Best Subset:\")\n",
    "print(\"------------\")\n",
    "print(models_best.loc[6, \"model\"].params)"
   ]
  },
  {
   "cell_type": "code",
   "execution_count": 28,
   "metadata": {},
   "outputs": [
    {
     "name": "stdout",
     "output_type": "stream",
     "text": [
      "-----------------\n",
      "Foward Selection:\n",
      "-----------------\n",
      "Histogram                      -2.711504\n",
      "RSI(14)                         0.024625\n",
      "SMA(10)                        -0.044954\n",
      "KST(10,10|15,10|20,10|30,15)    0.023902\n",
      "EMA(100,Modern)                -0.007689\n",
      "MACD(12,26)                     0.227919\n",
      "dtype: float64\n"
     ]
    }
   ],
   "source": [
    "print(\"-----------------\")\n",
    "print(\"Foward Selection:\")\n",
    "print(\"-----------------\")\n",
    "print(models_fwd.loc[6, \"model\"].params)"
   ]
  },
  {
   "cell_type": "code",
   "execution_count": 29,
   "metadata": {},
   "outputs": [
    {
     "name": "stdout",
     "output_type": "stream",
     "text": [
      "-------------------\n",
      "Backward Selection:\n",
      "-------------------\n",
      "EMA(10,Modern)   -9.925182\n",
      "EMA(20,Modern)    8.751050\n",
      "EMA(50,Modern)    1.167352\n",
      "SMA(10)          -0.038913\n",
      "RSI(14)           0.027968\n",
      "MACD(12,26)       9.845467\n",
      "dtype: float64\n"
     ]
    }
   ],
   "source": [
    "print(\"-------------------\")\n",
    "print(\"Backward Selection:\")\n",
    "print(\"-------------------\")\n",
    "print(models_bwd.loc[6, \"model\"].params)"
   ]
  },
  {
   "cell_type": "markdown",
   "metadata": {},
   "source": [
    "## Model Selection Using Validation Set Approach"
   ]
  },
  {
   "cell_type": "markdown",
   "metadata": {},
   "source": [
    "In order for the validation set approach to yield accurate estimates of the test error, we must use only the training observations to perform all aspects of model-fitting — including variable selection. Therefore, the determination of which model of a given size is best must be made using only the training observations. This point is subtle but important. If the full data set is used to perform the best subset selection step, the validation set errors and cross-validation errors that we obtain will not be accurate estimates of the test error."
   ]
  },
  {
   "cell_type": "markdown",
   "metadata": {},
   "source": [
    "In order to use the validation set approach, we begin by splitting the observations into a training set and a test set. We do this by creating a random vector, train, of elements equal to TRUE if the corresponding observation is in the training set, and FALSE otherwise. The vector test has a TRUE if the observation is in the test set, and a FALSE otherwise. Note the *np.invert()* in the command to create test causes TRUEs to be switched to FALSEs and vice versa. We also set a random seed so that the user will obtain the same training set/test set split."
   ]
  },
  {
   "cell_type": "code",
   "execution_count": 30,
   "metadata": {},
   "outputs": [],
   "source": [
    "np.random.seed(seed=12)\n",
    "train = np.random.choice([True, False], size = len(y), replace = True, p = [0.8,0.2])\n",
    "val = np.invert(train)"
   ]
  },
  {
   "cell_type": "markdown",
   "metadata": {},
   "source": [
    "We'll define our helper function to outputs the best set of variables for each model size like we did in Section 3. Note that we'll need to modify this to take in both validation and training sets, because we want the returned error to be the validation error:"
   ]
  },
  {
   "cell_type": "code",
   "execution_count": 31,
   "metadata": {},
   "outputs": [],
   "source": [
    "def processSubset(feature_set, X_train, y_train, X_val, y_val):\n",
    "    # Fit model on feature_set and calculate RSS\n",
    "    model = sm.OLS(y_train,X_train[list(feature_set)])\n",
    "    regr = model.fit()\n",
    "    RSS = ((regr.predict(X_val[list(feature_set)]) - y_val) ** 2).sum()\n",
    "    return {\"model\":regr, \"RSS\":RSS}"
   ]
  },
  {
   "cell_type": "markdown",
   "metadata": {},
   "source": [
    "### Best subset selection"
   ]
  },
  {
   "cell_type": "code",
   "execution_count": 32,
   "metadata": {},
   "outputs": [],
   "source": [
    "def getBest(k, X_train, y_train, X_val, y_val):\n",
    "    \n",
    "    tic = time.time()\n",
    "    \n",
    "    results = []\n",
    "    \n",
    "    for combo in itertools.combinations(X_train.columns, k):\n",
    "        results.append(processSubset(combo, X_train, y_train, X_val, y_val))\n",
    "    \n",
    "    # Wrap everything up in a nice dataframe\n",
    "    models = pd.DataFrame(results)\n",
    "    \n",
    "    # Choose the model with the lowest RSS\n",
    "    best_model = models.loc[models['RSS'].idxmin()]\n",
    "    \n",
    "    toc = time.time()\n",
    "    print(\"Processed {0:7d} models on {1:3d} predictors in {2:.5f} seconds.\".format(models.shape[0], k, toc-tic))\n",
    "    \n",
    "    # Return the best model, along with some other useful information about the model\n",
    "    return best_model"
   ]
  },
  {
   "cell_type": "code",
   "execution_count": 33,
   "metadata": {},
   "outputs": [
    {
     "name": "stdout",
     "output_type": "stream",
     "text": [
      "Processed      16 models on   1 predictors in 0.07909 seconds.\n",
      "Processed     120 models on   2 predictors in 0.37332 seconds.\n",
      "Processed     560 models on   3 predictors in 1.63511 seconds.\n",
      "Processed    1820 models on   4 predictors in 4.95132 seconds.\n",
      "Processed    4368 models on   5 predictors in 13.88961 seconds.\n",
      "Processed    8008 models on   6 predictors in 24.81002 seconds.\n",
      "Processed   11440 models on   7 predictors in 32.95659 seconds.\n",
      "Processed   12870 models on   8 predictors in 37.60405 seconds.\n",
      "Processed   11440 models on   9 predictors in 34.77309 seconds.\n",
      "Processed    8008 models on  10 predictors in 25.43190 seconds.\n",
      "Processed    4368 models on  11 predictors in 15.32293 seconds.\n",
      "Processed    1820 models on  12 predictors in 6.09510 seconds.\n",
      "Processed     560 models on  13 predictors in 2.01014 seconds.\n",
      "Processed     120 models on  14 predictors in 0.45777 seconds.\n",
      "Processed      16 models on  15 predictors in 0.06060 seconds.\n",
      "Processed       1 models on  16 predictors in 0.00478 seconds.\n",
      "Total elapsed time: 200.56664 seconds\n"
     ]
    }
   ],
   "source": [
    "models_best = pd.DataFrame(columns=[\"RSS\", \"model\"])\n",
    "\n",
    "tic = time.time()\n",
    "for i in range(1,17):\n",
    "    models_best.loc[i] = getBest(i, X[train], y[train], X[val], y[val])\n",
    "\n",
    "toc = time.time()\n",
    "print(\"Total elapsed time: {0:.5f} seconds\".format(toc-tic))"
   ]
  },
  {
   "cell_type": "code",
   "execution_count": 34,
   "metadata": {},
   "outputs": [
    {
     "data": {
      "text/plain": [
       "Text(0,0.5,'BIC')"
      ]
     },
     "execution_count": 34,
     "metadata": {},
     "output_type": "execute_result"
    },
    {
     "data": {
      "image/png": "[encoded data removed]",
      "text/plain": [
       "<matplotlib.figure.Figure at 0x1c2f4995f8>"
      ]
     },
     "metadata": {},
     "output_type": "display_data"
    }
   ],
   "source": [
    "plt.figure(figsize=(15,10))\n",
    "plt.rcParams.update({'font.size': 18, 'lines.markersize': 10})\n",
    "\n",
    "# Set up a 2x2 grid so we can look at 4 plots at once\n",
    "plt.subplot(2, 2, 1)\n",
    "\n",
    "plt.plot(models_best[\"RSS\"])\n",
    "plt.xlabel('# Predictors')\n",
    "plt.ylabel('RSS')\n",
    "\n",
    "# We will now plot a red dot to indicate the model with the largest adjusted R^2 statistic.\n",
    "# The argmax() function can be used to identify the location of the maximum point of a vector\n",
    "\n",
    "rsquared_adj = models_best.apply(lambda row: row[1].rsquared_adj, axis=1)\n",
    "\n",
    "plt.subplot(2, 2, 2)\n",
    "plt.plot(rsquared_adj)\n",
    "plt.plot(rsquared_adj.idxmax(), rsquared_adj.max(), \"or\")\n",
    "plt.xlabel('# Predictors')\n",
    "plt.ylabel('adjusted rsquared')\n",
    "\n",
    "# We'll do the same for AIC and BIC, this time looking for the models with the SMALLEST statistic\n",
    "aic = models_best.apply(lambda row: row[1].aic, axis=1)\n",
    "\n",
    "plt.subplot(2, 2, 3)\n",
    "plt.plot(aic)\n",
    "plt.plot(aic.idxmin(), aic.min(), \"or\")\n",
    "plt.xlabel('# Predictors')\n",
    "plt.ylabel('AIC')\n",
    "\n",
    "bic = models_best.apply(lambda row: row[1].bic, axis=1)\n",
    "\n",
    "plt.subplot(2, 2, 4)\n",
    "plt.plot(bic)\n",
    "plt.plot(bic.idxmin(), bic.min(), \"or\")\n",
    "plt.xlabel('# Predictors')\n",
    "plt.ylabel('BIC')\n"
   ]
  },
  {
   "cell_type": "markdown",
   "metadata": {},
   "source": [
    "### Forward selection"
   ]
  },
  {
   "cell_type": "markdown",
   "metadata": {},
   "source": [
    "And our function to perform forward selection:"
   ]
  },
  {
   "cell_type": "code",
   "execution_count": 35,
   "metadata": {},
   "outputs": [],
   "source": [
    "def forward(predictors, X_train, y_train, X_val, y_val):\n",
    "    \n",
    "    results = []\n",
    "\n",
    "    # Pull out predictors we still need to process\n",
    "    remaining_predictors = [p for p in X_train.columns if p not in predictors]\n",
    "    \n",
    "    for p in remaining_predictors:\n",
    "        results.append(processSubset(predictors+[p], X_train, y_train, X_val, y_val))\n",
    "    \n",
    "    # Wrap everything up in a nice dataframe\n",
    "    models = pd.DataFrame(results)\n",
    "    \n",
    "    # Choose the model with the highest RSS\n",
    "    best_model = models.loc[models['RSS'].idxmin()]\n",
    "        \n",
    "    # Return the best model, along with some other useful information about the model\n",
    "    return best_model"
   ]
  },
  {
   "cell_type": "markdown",
   "metadata": {},
   "source": [
    "Now, we'll call our forward() function on the training set in order to perform forward selection for all model sizes:"
   ]
  },
  {
   "cell_type": "code",
   "execution_count": 36,
   "metadata": {},
   "outputs": [],
   "source": [
    "models_train = pd.DataFrame(columns=[\"RSS\", \"model\"])\n",
    "\n",
    "predictors = []\n",
    "\n",
    "for i in range(1,len(X.columns)+1):    \n",
    "    models_train.loc[i] = forward(predictors, X[train], y[train], X[val], y[val])\n",
    "    predictors = models_train.loc[i][\"model\"].model.exog_names"
   ]
  },
  {
   "cell_type": "markdown",
   "metadata": {},
   "source": [
    "Now let's plot the errors, and find the model that minimizes it:"
   ]
  },
  {
   "cell_type": "code",
   "execution_count": 37,
   "metadata": {},
   "outputs": [
    {
     "data": {
      "text/plain": [
       "[<matplotlib.lines.Line2D at 0x1c6f091978>]"
      ]
     },
     "execution_count": 37,
     "metadata": {},
     "output_type": "execute_result"
    },
    {
     "data": {
      "image/png": "[encoded data removed]",
      "text/plain": [
       "<matplotlib.figure.Figure at 0x1c6f091048>"
      ]
     },
     "metadata": {},
     "output_type": "display_data"
    }
   ],
   "source": [
    "plt.plot(models_train[\"RSS\"])\n",
    "plt.xlabel('# Predictors')\n",
    "plt.ylabel('RSS')\n",
    "plt.plot(models_train[\"RSS\"].idxmin(), models_train[\"RSS\"].min(), \"or\")"
   ]
  },
  {
   "cell_type": "markdown",
   "metadata": {},
   "source": [
    "We find that the best model (according to the validation set approach) is the one that contains 15 predictors."
   ]
  },
  {
   "cell_type": "markdown",
   "metadata": {},
   "source": [
    "## Model Selection Using Cross-Validation\n"
   ]
  },
  {
   "cell_type": "markdown",
   "metadata": {},
   "source": [
    "## Neural Network"
   ]
  },
  {
   "cell_type": "markdown",
   "metadata": {},
   "source": [
    "## Long Short-Term Memory "
   ]
  },
  {
   "cell_type": "markdown",
   "metadata": {},
   "source": [
    "## Classification Methods"
   ]
  },
  {
   "cell_type": "markdown",
   "metadata": {},
   "source": [
    "### Create classification response variable"
   ]
  },
  {
   "cell_type": "markdown",
   "metadata": {},
   "source": [
    "The classification response variables are created based on the continuous response variables mentioned above. We will start with \"res11_Close\" since it is associated with the fractional price change of QQQ ETF in two weeks. "
   ]
  },
  {
   "cell_type": "code",
   "execution_count": 39,
   "metadata": {},
   "outputs": [
    {
     "data": {
      "image/png": "[encoded data removed]",
      "text/plain": [
       "<matplotlib.figure.Figure at 0x1c3c523c18>"
      ]
     },
     "metadata": {},
     "output_type": "display_data"
    }
   ],
   "source": [
    "et = 11\n",
    "data = QQQ_clean['res'+str(et)+'_Close'].dropna()\n",
    "plot_hist_norm_fitting(data, et)"
   ]
  },
  {
   "cell_type": "code",
   "execution_count": 40,
   "metadata": {},
   "outputs": [
    {
     "name": "stdout",
     "output_type": "stream",
     "text": [
      "-0.20941098985819084 2.409410989858191\n"
     ]
    },
    {
     "data": {
      "text/plain": [
       "<matplotlib.collections.PolyCollection at 0x1c84194198>"
      ]
     },
     "execution_count": 40,
     "metadata": {},
     "output_type": "execute_result"
    },
    {
     "data": {
      "image/png": "[encoded data removed]",
      "text/plain": [
       "<matplotlib.figure.Figure at 0x1c15f554e0>"
      ]
     },
     "metadata": {},
     "output_type": "display_data"
    }
   ],
   "source": [
    "from scipy.stats import norm\n",
    "\n",
    "plt.figure(figsize=(9,6))\n",
    "plt.rcParams.update({'font.size': 16, 'lines.markersize': 10})\n",
    "\n",
    "mu, sigma = 1.10, 3.04\n",
    "x = np.linspace(-10, 10, 100)\n",
    "plt.plot(x, func(x, mu, sigma**2), 'k',linewidth=2, \n",
    "             label=\"$\\mu={0:.2f}, \\sigma={1:.2f}$\".format(mu, sigma))\n",
    "plt.xlabel('% change after '+str(et)+' days')\n",
    "plt.ylabel('PDF')\n",
    "\n",
    "p1 = norm.ppf(1./3, loc=mu, scale=sigma)\n",
    "p2 = norm.ppf(2./3, loc=mu, scale=sigma)\n",
    "print(p1, p2)\n",
    "\n",
    "section1 = np.arange(-10, p1, 1/20.)\n",
    "plt.fill_between(section1,func(section1, mu, sigma**2), color = 'r')\n",
    "\n",
    "section2 = np.arange(p2, 12, 1/20.)\n",
    "plt.fill_between(section2,func(section2, mu, sigma**2), color = 'g')\n",
    "\n",
    "section3 = np.arange(p1, p2, 1/20.)\n",
    "plt.fill_between(section3,func(section3, mu, sigma**2), color = 'beige')"
   ]
  },
  {
   "cell_type": "code",
   "execution_count": 42,
   "metadata": {},
   "outputs": [],
   "source": [
    "import math\n",
    "\n",
    "def classifyChange(x, p1, p2):\n",
    "    if math.isnan(x):\n",
    "        return 'NaN'\n",
    "    elif x <= p1:\n",
    "        return 1\n",
    "    elif x >= p2:\n",
    "        return 3\n",
    "    else:\n",
    "        return 2\n",
    "    \n",
    "QQQ_clean['res'+str(et)+'_Close_clf'] = [classifyChange(item, p1, p2) for item in QQQ_clean['res'+str(et)+'_Close']]\n",
    "    "
   ]
  },
  {
   "cell_type": "code",
   "execution_count": 43,
   "metadata": {},
   "outputs": [
    {
     "data": {
      "text/html": [
       "<div>\n",
       "<style scoped>\n",
       "    .dataframe tbody tr th:only-of-type {\n",
       "        vertical-align: middle;\n",
       "    }\n",
       "\n",
       "    .dataframe tbody tr th {\n",
       "        vertical-align: top;\n",
       "    }\n",
       "\n",
       "    .dataframe thead th {\n",
       "        text-align: right;\n",
       "    }\n",
       "</style>\n",
       "<table border=\"1\" class=\"dataframe\">\n",
       "  <thead>\n",
       "    <tr style=\"text-align: right;\">\n",
       "      <th></th>\n",
       "      <th>Date</th>\n",
       "      <th>Open</th>\n",
       "      <th>High</th>\n",
       "      <th>Low</th>\n",
       "      <th>Close</th>\n",
       "      <th>Volume</th>\n",
       "      <th>EMA(5,Modern)</th>\n",
       "      <th>EMA(10,Modern)</th>\n",
       "      <th>EMA(20,Modern)</th>\n",
       "      <th>EMA(50,Modern)</th>\n",
       "      <th>...</th>\n",
       "      <th>SMA(10)</th>\n",
       "      <th>RSI(14)</th>\n",
       "      <th>MACD(12,26)</th>\n",
       "      <th>EMA(9,Modern)</th>\n",
       "      <th>Histogram</th>\n",
       "      <th>res6_Close</th>\n",
       "      <th>res11_Close</th>\n",
       "      <th>res21_Close</th>\n",
       "      <th>res41_Close</th>\n",
       "      <th>res11_Close_clf</th>\n",
       "    </tr>\n",
       "  </thead>\n",
       "  <tbody>\n",
       "    <tr>\n",
       "      <th>1505</th>\n",
       "      <td>2/11/19</td>\n",
       "      <td>169.14</td>\n",
       "      <td>169.5800</td>\n",
       "      <td>167.9800</td>\n",
       "      <td>168.40</td>\n",
       "      <td>21434088</td>\n",
       "      <td>168.628663</td>\n",
       "      <td>167.749737</td>\n",
       "      <td>165.672992</td>\n",
       "      <td>164.227945</td>\n",
       "      <td>...</td>\n",
       "      <td>42.570748</td>\n",
       "      <td>58.326391</td>\n",
       "      <td>2.450671</td>\n",
       "      <td>2.136789</td>\n",
       "      <td>0.313883</td>\n",
       "      <td>NaN</td>\n",
       "      <td>NaN</td>\n",
       "      <td>NaN</td>\n",
       "      <td>NaN</td>\n",
       "      <td>NaN</td>\n",
       "    </tr>\n",
       "    <tr>\n",
       "      <th>1506</th>\n",
       "      <td>2/12/19</td>\n",
       "      <td>169.59</td>\n",
       "      <td>171.1400</td>\n",
       "      <td>169.3300</td>\n",
       "      <td>170.89</td>\n",
       "      <td>29722073</td>\n",
       "      <td>169.382442</td>\n",
       "      <td>168.320694</td>\n",
       "      <td>166.169850</td>\n",
       "      <td>164.489202</td>\n",
       "      <td>...</td>\n",
       "      <td>45.618089</td>\n",
       "      <td>62.573260</td>\n",
       "      <td>2.555582</td>\n",
       "      <td>2.220547</td>\n",
       "      <td>0.335035</td>\n",
       "      <td>NaN</td>\n",
       "      <td>NaN</td>\n",
       "      <td>NaN</td>\n",
       "      <td>NaN</td>\n",
       "      <td>NaN</td>\n",
       "    </tr>\n",
       "    <tr>\n",
       "      <th>1507</th>\n",
       "      <td>2/13/19</td>\n",
       "      <td>171.62</td>\n",
       "      <td>172.1600</td>\n",
       "      <td>170.8200</td>\n",
       "      <td>171.01</td>\n",
       "      <td>26094136</td>\n",
       "      <td>169.924961</td>\n",
       "      <td>168.809659</td>\n",
       "      <td>166.630816</td>\n",
       "      <td>164.744920</td>\n",
       "      <td>...</td>\n",
       "      <td>48.791140</td>\n",
       "      <td>62.770169</td>\n",
       "      <td>2.618227</td>\n",
       "      <td>2.300083</td>\n",
       "      <td>0.318144</td>\n",
       "      <td>NaN</td>\n",
       "      <td>NaN</td>\n",
       "      <td>NaN</td>\n",
       "      <td>NaN</td>\n",
       "      <td>NaN</td>\n",
       "    </tr>\n",
       "    <tr>\n",
       "      <th>1508</th>\n",
       "      <td>2/14/19</td>\n",
       "      <td>170.38</td>\n",
       "      <td>171.8300</td>\n",
       "      <td>169.8300</td>\n",
       "      <td>171.22</td>\n",
       "      <td>30326830</td>\n",
       "      <td>170.356641</td>\n",
       "      <td>169.247903</td>\n",
       "      <td>167.067881</td>\n",
       "      <td>164.998845</td>\n",
       "      <td>...</td>\n",
       "      <td>52.005106</td>\n",
       "      <td>63.135690</td>\n",
       "      <td>2.654222</td>\n",
       "      <td>2.370911</td>\n",
       "      <td>0.283311</td>\n",
       "      <td>NaN</td>\n",
       "      <td>NaN</td>\n",
       "      <td>NaN</td>\n",
       "      <td>NaN</td>\n",
       "      <td>NaN</td>\n",
       "    </tr>\n",
       "    <tr>\n",
       "      <th>1509</th>\n",
       "      <td>2/15/19</td>\n",
       "      <td>172.51</td>\n",
       "      <td>172.5623</td>\n",
       "      <td>171.1392</td>\n",
       "      <td>171.94</td>\n",
       "      <td>32521685</td>\n",
       "      <td>170.884427</td>\n",
       "      <td>169.737375</td>\n",
       "      <td>167.531893</td>\n",
       "      <td>165.271047</td>\n",
       "      <td>...</td>\n",
       "      <td>55.102333</td>\n",
       "      <td>64.425305</td>\n",
       "      <td>2.709612</td>\n",
       "      <td>2.438651</td>\n",
       "      <td>0.270961</td>\n",
       "      <td>NaN</td>\n",
       "      <td>NaN</td>\n",
       "      <td>NaN</td>\n",
       "      <td>NaN</td>\n",
       "      <td>NaN</td>\n",
       "    </tr>\n",
       "  </tbody>\n",
       "</table>\n",
       "<p>5 rows × 22 columns</p>\n",
       "</div>"
      ],
      "text/plain": [
       "         Date    Open      High       Low   Close    Volume  EMA(5,Modern)  \\\n",
       "1505  2/11/19  169.14  169.5800  167.9800  168.40  21434088     168.628663   \n",
       "1506  2/12/19  169.59  171.1400  169.3300  170.89  29722073     169.382442   \n",
       "1507  2/13/19  171.62  172.1600  170.8200  171.01  26094136     169.924961   \n",
       "1508  2/14/19  170.38  171.8300  169.8300  171.22  30326830     170.356641   \n",
       "1509  2/15/19  172.51  172.5623  171.1392  171.94  32521685     170.884427   \n",
       "\n",
       "      EMA(10,Modern)  EMA(20,Modern)  EMA(50,Modern)       ...         \\\n",
       "1505      167.749737      165.672992      164.227945       ...          \n",
       "1506      168.320694      166.169850      164.489202       ...          \n",
       "1507      168.809659      166.630816      164.744920       ...          \n",
       "1508      169.247903      167.067881      164.998845       ...          \n",
       "1509      169.737375      167.531893      165.271047       ...          \n",
       "\n",
       "        SMA(10)    RSI(14)  MACD(12,26)  EMA(9,Modern)  Histogram  res6_Close  \\\n",
       "1505  42.570748  58.326391     2.450671       2.136789   0.313883         NaN   \n",
       "1506  45.618089  62.573260     2.555582       2.220547   0.335035         NaN   \n",
       "1507  48.791140  62.770169     2.618227       2.300083   0.318144         NaN   \n",
       "1508  52.005106  63.135690     2.654222       2.370911   0.283311         NaN   \n",
       "1509  55.102333  64.425305     2.709612       2.438651   0.270961         NaN   \n",
       "\n",
       "      res11_Close  res21_Close  res41_Close  res11_Close_clf  \n",
       "1505          NaN          NaN          NaN              NaN  \n",
       "1506          NaN          NaN          NaN              NaN  \n",
       "1507          NaN          NaN          NaN              NaN  \n",
       "1508          NaN          NaN          NaN              NaN  \n",
       "1509          NaN          NaN          NaN              NaN  \n",
       "\n",
       "[5 rows x 22 columns]"
      ]
     },
     "execution_count": 43,
     "metadata": {},
     "output_type": "execute_result"
    }
   ],
   "source": [
    "QQQ_clean.tail(5)"
   ]
  },
  {
   "cell_type": "code",
   "execution_count": 44,
   "metadata": {},
   "outputs": [
    {
     "name": "stdout",
     "output_type": "stream",
     "text": [
      "Counter({2: 581, 1: 508, 3: 410, 'NaN': 11})\n"
     ]
    }
   ],
   "source": [
    "from collections import Counter\n",
    "\n",
    "nString = 'res'+str(et)+'_Close_clf'\n",
    "print(Counter(QQQ_clean[nString]))"
   ]
  },
  {
   "cell_type": "code",
   "execution_count": null,
   "metadata": {},
   "outputs": [],
   "source": []
  }
 ],
 "metadata": {
  "kernelspec": {
   "display_name": "Python 3",
   "language": "python",
   "name": "python3"
  },
  "language_info": {
   "codemirror_mode": {
    "name": "ipython",
    "version": 3
   },
   "file_extension": ".py",
   "mimetype": "text/x-python",
   "name": "python",
   "nbconvert_exporter": "python",
   "pygments_lexer": "ipython3",
   "version": "3.5.4"
  },
  "toc": {
   "base_numbering": 1,
   "nav_menu": {},
   "number_sections": true,
   "sideBar": true,
   "skip_h1_title": true,
   "title_cell": "Table of Contents",
   "title_sidebar": "Contents",
   "toc_cell": true,
   "toc_position": {},
   "toc_section_display": true,
   "toc_window_display": false
  }
 },
 "nbformat": 4,
 "nbformat_minor": 2
}
